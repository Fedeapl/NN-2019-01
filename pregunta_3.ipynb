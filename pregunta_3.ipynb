{
  "nbformat": 4,
  "nbformat_minor": 0,
  "metadata": {
    "colab": {
      "name": "pregunta 3",
      "version": "0.3.2",
      "provenance": [],
      "collapsed_sections": []
    },
    "kernelspec": {
      "name": "python3",
      "display_name": "Python 3"
    },
    "accelerator": "GPU"
  },
  "cells": [
    {
      "cell_type": "code",
      "metadata": {
        "id": "_ZWDnklZDrWM",
        "colab_type": "code",
        "outputId": "3d1ded13-2db5-406e-9ef7-204f88e31392",
        "colab": {
          "base_uri": "https://localhost:8080/",
          "height": 54
        }
      },
      "source": [
        "label_names = ['airplane', 'automobile', 'bird', 'cat', 'deer', 'dog', 'frog', 'horse', 'ship', 'truck']  \n",
        "import pandas as pd\n",
        "import numpy as np  \n",
        "import sklearn\n",
        "from sklearn.model_selection import train_test_split\n",
        "from keras.datasets import cifar10\n",
        "(x_train, y_train), (x_test, y_test) = cifar10.load_data()\n"
      ],
      "execution_count": 0,
      "outputs": [
        {
          "output_type": "stream",
          "text": [
            "Downloading data from https://www.cs.toronto.edu/~kriz/cifar-10-python.tar.gz\n",
            "170500096/170498071 [==============================] - 393s 2us/step\n"
          ],
          "name": "stdout"
        }
      ]
    },
    {
      "cell_type": "code",
      "metadata": {
        "id": "4Nk4MGmnQr43",
        "colab_type": "code",
        "colab": {}
      },
      "source": [
        "from skimage import data, img_as_float\n",
        "from skimage.measure import compare_ssim as ssim\n",
        "\n",
        "aviones= [np.random.choice(np.where(y_train==0)[0]) for k in range(100)]\n",
        "pajaros= [np.random.choice(np.where(y_train==2)[0]) for k in range(100)]\n",
        "#np.shape(aviones)[0]\n",
        "z=np.ones((np.shape(aviones)[0],np.shape(aviones)[0]))\n",
        "for i in range(np.shape(aviones)[0]):\n",
        "  for j in range(i+1,np.shape(aviones)[0]):\n",
        "    z[i,j]=ssim(x_train[aviones[i]]/255, x_train[aviones[j]]/255, multichannel=True)\n"
      ],
      "execution_count": 0,
      "outputs": []
    },
    {
      "cell_type": "markdown",
      "metadata": {
        "id": "dI83jODPbL1I",
        "colab_type": "text"
      },
      "source": [
        "En lo anterior simplemente se utilizó la función SSIM (structural similarity index) para estudiar la similaridad de las imágenes. En general es dificil establecer que exista una diferencia considerable en los ejemplos elegidos (avión-pájaro) debido ala baja calidad de las imágenes, incluso para uno es dificil distinguir los ejemplos anteriores. Es cierto que entre un perro y un avión se tendrá una ssim muy baja, pero aún así a priori no es posible decir si existe una similitud entre las imágenes. En base a la matriz anterior, es posible ver que existen valores más altos para una comparación entre avión-pájaro que para avión-avión. "
      ]
    },
    {
      "cell_type": "code",
      "metadata": {
        "id": "0i1EBv34f-vm",
        "colab_type": "code",
        "outputId": "45a84b27-2d95-4f2e-bae8-e765c3f9742b",
        "colab": {
          "base_uri": "https://localhost:8080/",
          "height": 286
        }
      },
      "source": [
        "\n"
      ],
      "execution_count": 0,
      "outputs": [
        {
          "output_type": "execute_result",
          "data": {
            "text/plain": [
              "-0.13674568807969778"
            ]
          },
          "metadata": {
            "tags": []
          },
          "execution_count": 138
        },
        {
          "output_type": "display_data",
          "data": {
            "image/png": "[encoded data removed]",
            "text/plain": [
              "<Figure size 432x288 with 1 Axes>"
            ]
          },
          "metadata": {
            "tags": []
          }
        }
      ]
    },
    {
      "cell_type": "code",
      "metadata": {
        "id": "tcfgbJx_EY4b",
        "colab_type": "code",
        "outputId": "953daa68-5ee8-4715-c43e-a7833b555e4f",
        "cellView": "both",
        "colab": {
          "base_uri": "https://localhost:8080/",
          "height": 326
        }
      },
      "source": [
        "#@title\n",
        "\n",
        "num_classes=len(label_names)\n",
        "x_train , x_val , y_train , y_val = train_test_split(x_train, y_train, test_size=0.2, stratify = y_train)\n",
        "import matplotlib.pyplot as plt\n",
        "idx_dato = [np.random.choice(np.where(y_train==i)[0]) for i in range(10)] #sample from each class\n",
        "f,axx = plt.subplots(2,5,figsize=(10,5))\n",
        "for i, dato in enumerate(idx_dato):\n",
        "    axx[int(i/5),i%5].imshow(x_train[dato])\n",
        "    axx[int(i/5),i%5].axis('off')\n",
        "    axx[int(i/5),i%5].set_title(label_names[i])\n",
        "plt.show()\n",
        "np.shape(x_train)"
      ],
      "execution_count": 0,
      "outputs": [
        {
          "output_type": "display_data",
          "data": {
            "image/png": "[encoded data removed]",
            "text/plain": [
              "<Figure size 720x360 with 10 Axes>"
            ]
          },
          "metadata": {
            "tags": []
          }
        },
        {
          "output_type": "execute_result",
          "data": {
            "text/plain": [
              "(40000, 32, 32, 3)"
            ]
          },
          "metadata": {
            "tags": []
          },
          "execution_count": 6
        }
      ]
    },
    {
      "cell_type": "markdown",
      "metadata": {
        "id": "BvUV6PMePWmc",
        "colab_type": "text"
      },
      "source": [
        "**(a)** En lo anterior tenemos 40500 imágenes de 32x32. Notemos que no solo visualizamos los datos en esta parte, si no que también creamos los datos de validación del problema. Copiando el problema 1, utilizaremos el 20% de los datos como **Conjunto de validación** "
      ]
    },
    {
      "cell_type": "code",
      "metadata": {
        "id": "jlkPF97oPkce",
        "colab_type": "code",
        "outputId": "57b22061-d13f-4216-aaf9-7452e3ed362a",
        "colab": {
          "base_uri": "https://localhost:8080/",
          "height": 295
        }
      },
      "source": [
        "a= [np.where(y_train==0)[0]]\n",
        "b=[np.random.choice(a[0]) for k in range(10)]\n",
        "x,y=plt.subplots(2,5,figsize=(10,5))\n",
        "for m,n in enumerate(b):\n",
        "  y[int(m/5) ,m%5].imshow(x_train[n])\n",
        "  y[int(m/5) , m%5].axis('off')\n",
        "\n",
        "  #import skimage\n",
        "from skimage import measure\n",
        "#from skimage.measure import structural_similarity as ssim\n",
        "import matplotlib.pyplot as plt\n",
        "import numpy as np\n",
        "import cv2\n",
        "#SIM = measure.compare_ssim(x_train[n], x_train[b[0]])\n"
      ],
      "execution_count": 0,
      "outputs": [
        {
          "output_type": "display_data",
          "data": {
            "image/png": "[encoded data removed]",
            "text/plain": [
              "<Figure size 720x360 with 10 Axes>"
            ]
          },
          "metadata": {
            "tags": []
          }
        }
      ]
    },
    {
      "cell_type": "markdown",
      "metadata": {
        "id": "JkP8M8KNfUjz",
        "colab_type": "text"
      },
      "source": [
        " **(B)**  \n",
        " * A continuación, buscamos preparar los datos de validación y entrenamiento a ser utilizados en nuestra red. Con esto simplemente creamos una matriz categórica binaria la cual nos indica cómo se comportan nuestros datos de validación (que son, a todo esto, representativos en base a la muestra original) en base a las 10 categorías exhibidas anteriormente. \n",
        "\n",
        "*   El hecho de dividir por 255 los valores es simplemente para normalizar los datos. (Notar que el máxmio y mínimo valor de los datos de entrenamiento son 255 y 0, respectivamente). Por lo tanto lo que simplemente se está realizando es la normalización de ellos, para hacer que esten en un entorno cercano a la bola unitaria con centro 0.  (Notar que el 255 sale de las $2^8$ posibilidades binarias.)\n",
        "\n",
        " "
      ]
    },
    {
      "cell_type": "code",
      "metadata": {
        "id": "N57zlL9VE4lD",
        "colab_type": "code",
        "colab": {}
      },
      "source": [
        "import keras\n",
        "#x_train = x_train.transpose([0, 3, 1, 2]) #if 'th' dim-ordering is used\n",
        "#x_test= x_test.transpose([0, 3, 1, 2]) \n",
        "y_train = keras.utils.to_categorical(y_train, num_classes)\n",
        "y_val = keras.utils.to_categorical(y_val, num_classes)\n",
        "y_test = keras.utils.to_categorical(y_test, num_classes)\n",
        "Xnorm_train = x_train.astype('float32')/255\n",
        "Xnorm_val = x_val.astype('float32')/255\n",
        "Xnorm_test = x_test.astype('float32')/255"
      ],
      "execution_count": 0,
      "outputs": []
    },
    {
      "cell_type": "markdown",
      "metadata": {
        "id": "Oo8Oj1fQhe-B",
        "colab_type": "text"
      },
      "source": [
        "**(C)** \n",
        "Nos ponemos manos a la obra y creamos, como pide la tarea, una red neuronal del estilo **C x P x C x P x F x F**.  Para el estudio de la dimensionalidad notemos que en el padding utilizamos la opción 'same', lo cual permite mantener el volumen de la capa. Entonce, viendo el summary es posible ver que\n",
        "* Convolución 1: **32 x 32 x 32**\n",
        "* Pooling 1 : **16 x 16 x 32**\n",
        "* Convolución 2: **16 x 16 x 64**\n",
        "* Pooling 2 : **8 x 8 x 64**\n",
        "* Flatten (comprimimos todo) : 4096"
      ]
    },
    {
      "cell_type": "code",
      "metadata": {
        "id": "4zBR25QoJ6cl",
        "colab_type": "code",
        "outputId": "96be5376-1376-40e4-93c3-5ecf79f99917",
        "colab": {
          "base_uri": "https://localhost:8080/",
          "height": 478
        }
      },
      "source": [
        "from keras.models import Sequential\n",
        "from keras.layers import Dense, Dropout, Activation, Flatten, Conv2D, MaxPooling2D\n",
        "model = Sequential()\n",
        "model.add(Conv2D(32, (3, 3), padding='same', input_shape=Xnorm_train.shape[1:],activation='relu'))\n",
        "model.add(MaxPooling2D(pool_size=(2, 2)))\n",
        "model.add(Conv2D(64, (3, 3), padding='same',activation='relu'))\n",
        "model.add(MaxPooling2D(pool_size=(2, 2)))\n",
        "model.add(Flatten())\n",
        "model.add(Dense(512,activation='relu'))\n",
        "model.add(Dense(10,activation='softmax'))\n",
        "model.summary()\n",
        "\n"
      ],
      "execution_count": 0,
      "outputs": [
        {
          "output_type": "stream",
          "text": [
            "WARNING:tensorflow:From /usr/local/lib/python3.6/dist-packages/tensorflow/python/framework/op_def_library.py:263: colocate_with (from tensorflow.python.framework.ops) is deprecated and will be removed in a future version.\n",
            "Instructions for updating:\n",
            "Colocations handled automatically by placer.\n",
            "_________________________________________________________________\n",
            "Layer (type)                 Output Shape              Param #   \n",
            "=================================================================\n",
            "conv2d_1 (Conv2D)            (None, 32, 32, 32)        896       \n",
            "_________________________________________________________________\n",
            "max_pooling2d_1 (MaxPooling2 (None, 16, 16, 32)        0         \n",
            "_________________________________________________________________\n",
            "conv2d_2 (Conv2D)            (None, 16, 16, 64)        18496     \n",
            "_________________________________________________________________\n",
            "max_pooling2d_2 (MaxPooling2 (None, 8, 8, 64)          0         \n",
            "_________________________________________________________________\n",
            "flatten_1 (Flatten)          (None, 4096)              0         \n",
            "_________________________________________________________________\n",
            "dense_1 (Dense)              (None, 512)               2097664   \n",
            "_________________________________________________________________\n",
            "dense_2 (Dense)              (None, 10)                5130      \n",
            "=================================================================\n",
            "Total params: 2,122,186\n",
            "Trainable params: 2,122,186\n",
            "Non-trainable params: 0\n",
            "_________________________________________________________________\n"
          ],
          "name": "stdout"
        }
      ]
    },
    {
      "cell_type": "markdown",
      "metadata": {
        "id": "I35LjqYMmFGT",
        "colab_type": "text"
      },
      "source": [
        "**(D)** En lo que sigue, entrenaremos el modelo anterior con 2 diferente métodos: SGD y RMSProp, para estudiar sus diferencias. La idea es, luego de realizar este paso, poder ver cómo variar tanto el número de filtros como su tamaño y ver si es posible hacer algo con las capas a del modelo para mejorarlo."
      ]
    },
    {
      "cell_type": "code",
      "metadata": {
        "id": "wl9zV8Wbaroi",
        "colab_type": "code",
        "outputId": "572a23be-f07c-4e94-d246-032b18e1f182",
        "colab": {
          "base_uri": "https://localhost:8080/",
          "height": 1029
        }
      },
      "source": [
        "#ENTRENAMIENTO CON SGD\n",
        "from keras.optimizers import SGD, rmsprop\n",
        "opt = SGD(lr=1e-4,decay=1e-6)\n",
        "model.compile( optimizer=opt, loss='categorical_crossentropy', metrics=['accuracy'])\n",
        "hist = model.fit(Xnorm_train, y_train ,epochs=25, validation_data=(Xnorm_val,y_val))\n"
      ],
      "execution_count": 0,
      "outputs": [
        {
          "output_type": "stream",
          "text": [
            "WARNING:tensorflow:From /usr/local/lib/python3.6/dist-packages/tensorflow/python/ops/math_ops.py:3066: to_int32 (from tensorflow.python.ops.math_ops) is deprecated and will be removed in a future version.\n",
            "Instructions for updating:\n",
            "Use tf.cast instead.\n",
            "Train on 40000 samples, validate on 10000 samples\n",
            "Epoch 1/25\n",
            "40000/40000 [==============================] - 11s 279us/step - loss: 2.2966 - acc: 0.1247 - val_loss: 2.2894 - val_acc: 0.1329\n",
            "Epoch 2/25\n",
            "40000/40000 [==============================] - 6s 138us/step - loss: 2.2841 - acc: 0.1414 - val_loss: 2.2803 - val_acc: 0.1440\n",
            "Epoch 3/25\n",
            "40000/40000 [==============================] - 6s 148us/step - loss: 2.2759 - acc: 0.1512 - val_loss: 2.2728 - val_acc: 0.1612\n",
            "Epoch 4/25\n",
            "40000/40000 [==============================] - 6s 152us/step - loss: 2.2684 - acc: 0.1690 - val_loss: 2.2653 - val_acc: 0.1730\n",
            "Epoch 5/25\n",
            "40000/40000 [==============================] - 6s 139us/step - loss: 2.2606 - acc: 0.1802 - val_loss: 2.2572 - val_acc: 0.1813\n",
            "Epoch 6/25\n",
            "40000/40000 [==============================] - 6s 139us/step - loss: 2.2522 - acc: 0.1897 - val_loss: 2.2485 - val_acc: 0.1862\n",
            "Epoch 7/25\n",
            "40000/40000 [==============================] - 6s 138us/step - loss: 2.2430 - acc: 0.1959 - val_loss: 2.2388 - val_acc: 0.1910\n",
            "Epoch 8/25\n",
            "40000/40000 [==============================] - 6s 139us/step - loss: 2.2327 - acc: 0.1971 - val_loss: 2.2280 - val_acc: 0.2063\n",
            "Epoch 9/25\n",
            "40000/40000 [==============================] - 6s 138us/step - loss: 2.2215 - acc: 0.2115 - val_loss: 2.2163 - val_acc: 0.2136\n",
            "Epoch 10/25\n",
            "40000/40000 [==============================] - 6s 138us/step - loss: 2.2092 - acc: 0.2176 - val_loss: 2.2035 - val_acc: 0.2241\n",
            "Epoch 11/25\n",
            "40000/40000 [==============================] - 5s 137us/step - loss: 2.1957 - acc: 0.2292 - val_loss: 2.1896 - val_acc: 0.2275\n",
            "Epoch 12/25\n",
            "40000/40000 [==============================] - 6s 138us/step - loss: 2.1812 - acc: 0.2348 - val_loss: 2.1748 - val_acc: 0.2345\n",
            "Epoch 13/25\n",
            "40000/40000 [==============================] - 6s 144us/step - loss: 2.1658 - acc: 0.2417 - val_loss: 2.1591 - val_acc: 0.2412\n",
            "Epoch 14/25\n",
            "40000/40000 [==============================] - 6s 147us/step - loss: 2.1498 - acc: 0.2493 - val_loss: 2.1432 - val_acc: 0.2472\n",
            "Epoch 15/25\n",
            "40000/40000 [==============================] - 5s 137us/step - loss: 2.1336 - acc: 0.2550 - val_loss: 2.1273 - val_acc: 0.2535\n",
            "Epoch 16/25\n",
            "40000/40000 [==============================] - 5s 137us/step - loss: 2.1175 - acc: 0.2598 - val_loss: 2.1117 - val_acc: 0.2620\n",
            "Epoch 17/25\n",
            "40000/40000 [==============================] - 5s 137us/step - loss: 2.1017 - acc: 0.2674 - val_loss: 2.0965 - val_acc: 0.2642\n",
            "Epoch 18/25\n",
            "40000/40000 [==============================] - 5s 136us/step - loss: 2.0863 - acc: 0.2712 - val_loss: 2.0819 - val_acc: 0.2728\n",
            "Epoch 19/25\n",
            "40000/40000 [==============================] - 5s 137us/step - loss: 2.0714 - acc: 0.2793 - val_loss: 2.0680 - val_acc: 0.2718\n",
            "Epoch 20/25\n",
            "40000/40000 [==============================] - 5s 137us/step - loss: 2.0571 - acc: 0.2805 - val_loss: 2.0548 - val_acc: 0.2805\n",
            "Epoch 21/25\n",
            "40000/40000 [==============================] - 5s 137us/step - loss: 2.0434 - acc: 0.2865 - val_loss: 2.0423 - val_acc: 0.2864\n",
            "Epoch 22/25\n",
            "40000/40000 [==============================] - 5s 136us/step - loss: 2.0306 - acc: 0.2906 - val_loss: 2.0305 - val_acc: 0.2888\n",
            "Epoch 23/25\n",
            "40000/40000 [==============================] - 5s 136us/step - loss: 2.0185 - acc: 0.2943 - val_loss: 2.0196 - val_acc: 0.2881\n",
            "Epoch 24/25\n",
            "40000/40000 [==============================] - 5s 136us/step - loss: 2.0073 - acc: 0.2964 - val_loss: 2.0092 - val_acc: 0.2934\n",
            "Epoch 25/25\n",
            "40000/40000 [==============================] - 5s 135us/step - loss: 1.9968 - acc: 0.3023 - val_loss: 2.0000 - val_acc: 0.2948\n"
          ],
          "name": "stdout"
        }
      ]
    },
    {
      "cell_type": "markdown",
      "metadata": {
        "id": "Gq864-7OnbcY",
        "colab_type": "text"
      },
      "source": [
        "Para los primeros 25 epochs realizados se obtiene el gráfico que se ve abajo. Es posible ver que, efectivamente, el error va decreciendo y, con los datos de arriba, que el *accuracy* va aumentando lo cual los indica que la red sí está aprendiendo. Pero aún así tenemos dos problemas: \n",
        "\n",
        "\n",
        "1.   El error es aún alto y, a pesar de que decrece 'rápidamente', se podría hacer mejor.\n",
        "2.   El accuracy es muy bajo.\n",
        "\n",
        "Veamos qué sucede con el método RMSProp, haremos su análisis y lo compararemos con SGD.\n",
        "\n"
      ]
    },
    {
      "cell_type": "code",
      "metadata": {
        "colab_type": "code",
        "outputId": "06e794fb-c820-4184-8c34-289d7bfcd56d",
        "id": "nWm-l3zzAxN-",
        "colab": {
          "base_uri": "https://localhost:8080/",
          "height": 350
        }
      },
      "source": [
        "plt.figure(1)\n",
        "\n",
        "\n",
        "plt.subplot(211)\n",
        "\n",
        "plt.plot(np.arange(1,26,1), hist.history['acc'])\n",
        "plt.plot(np.arange(1,26,1), hist.history['val_acc'])\n",
        "plt.legend(['acc train', 'val_acc'])\n",
        "plt.xlabel('Epoch')\n",
        "plt.ylabel('accuracy')\n",
        "plt.annotate('acc val data = 0.2948', xy=(25,0.2948), xytext=(15,0.25), arrowprops=dict(facecolor='black', shrink=0.01))\n",
        "\n",
        "plt.subplot(212)\n",
        "plt.plot(np.arange(1,26,1), hist.history['val_loss'])\n",
        "plt.plot(np.arange(1,26,1),hist.history['loss'])\n",
        "plt.xlabel('epoch')\n",
        "plt.ylabel('losses')\n",
        "plt.legend(['Val loss', 'Loss'])\n",
        "plt.title('SGD')\n",
        "\n",
        "plt.subplots_adjust(top=0.99, bottom=0.001, left=0.10, right=0.95, hspace=0.4,\n",
        "                    wspace=0.35)\n"
      ],
      "execution_count": 0,
      "outputs": [
        {
          "output_type": "display_data",
          "data": {
            "image/png": "[encoded data removed]",
            "text/plain": [
              "<Figure size 432x288 with 2 Axes>"
            ]
          },
          "metadata": {
            "tags": []
          }
        }
      ]
    },
    {
      "cell_type": "markdown",
      "metadata": {
        "id": "mbv7_2xho-UP",
        "colab_type": "text"
      },
      "source": [
        "** Definimos un nuevo modelo para poder aplicar RMSProp sobre él.** "
      ]
    },
    {
      "cell_type": "code",
      "metadata": {
        "id": "vhiKYtuzel7y",
        "colab_type": "code",
        "outputId": "77f729f1-0b81-463a-8388-a1f86ae9b0a7",
        "colab": {
          "base_uri": "https://localhost:8080/",
          "height": 403
        }
      },
      "source": [
        "#Entrenamiento con RMSProp\n",
        "\n",
        "from keras.models import Sequential\n",
        "from keras.layers import Dense, Dropout, Activation, Flatten, Conv2D, MaxPooling2D\n",
        "model1 = Sequential()\n",
        "model1.add(Conv2D(32, (3, 3), padding='same', input_shape=Xnorm_train.shape[1:],activation='relu'))\n",
        "model1.add(MaxPooling2D(pool_size=(2, 2)))\n",
        "model1.add(Conv2D(64, (3, 3), padding='same',activation='relu'))\n",
        "model1.add(MaxPooling2D(pool_size=(2, 2)))\n",
        "model1.add(Flatten())\n",
        "model1.add(Dense(512,activation='relu'))\n",
        "model1.add(Dense(10,activation='softmax'))\n",
        "model1.summary()"
      ],
      "execution_count": 0,
      "outputs": [
        {
          "output_type": "stream",
          "text": [
            "_________________________________________________________________\n",
            "Layer (type)                 Output Shape              Param #   \n",
            "=================================================================\n",
            "conv2d_3 (Conv2D)            (None, 32, 32, 32)        896       \n",
            "_________________________________________________________________\n",
            "max_pooling2d_3 (MaxPooling2 (None, 16, 16, 32)        0         \n",
            "_________________________________________________________________\n",
            "conv2d_4 (Conv2D)            (None, 16, 16, 64)        18496     \n",
            "_________________________________________________________________\n",
            "max_pooling2d_4 (MaxPooling2 (None, 8, 8, 64)          0         \n",
            "_________________________________________________________________\n",
            "flatten_2 (Flatten)          (None, 4096)              0         \n",
            "_________________________________________________________________\n",
            "dense_3 (Dense)              (None, 512)               2097664   \n",
            "_________________________________________________________________\n",
            "dense_4 (Dense)              (None, 10)                5130      \n",
            "=================================================================\n",
            "Total params: 2,122,186\n",
            "Trainable params: 2,122,186\n",
            "Non-trainable params: 0\n",
            "_________________________________________________________________\n"
          ],
          "name": "stdout"
        }
      ]
    },
    {
      "cell_type": "code",
      "metadata": {
        "id": "-ibU-cQMe6WX",
        "colab_type": "code",
        "outputId": "a0aa8d87-50cc-4306-c006-6c1c3fcba590",
        "colab": {
          "base_uri": "https://localhost:8080/",
          "height": 1250
        }
      },
      "source": [
        "opt = rmsprop(lr=1e-4, decay=1e-6)\n",
        "model1.compile(optimizer=opt, loss='categorical_crossentropy', metrics=['accuracy'])\n",
        "hist1 = model1.fit(Xnorm_train, y_train, epochs=25, validation_data=(Xnorm_val, y_val))\n",
        "\n",
        "#ploteo del error\n",
        "plt.figure(2)\n",
        "\n",
        "\n",
        "plt.subplot(211)\n",
        "\n",
        "plt.plot(np.arange(1,26,1), hist1.history['acc'])\n",
        "plt.plot(np.arange(1,26,1), hist1.history['val_acc'])\n",
        "plt.legend(['acc train', 'val_acc'])\n",
        "plt.xlabel('Epoch')\n",
        "plt.ylabel('accuracy')\n",
        "plt.annotate('acc val data = 0.7098', xy=(25,0.7098), xytext=(15,0.6), arrowprops=dict(facecolor='black', shrink=0.01))\n",
        "\n",
        "plt.subplot(212)\n",
        "plt.plot(np.arange(1,26,1), hist1.history['val_loss'])\n",
        "plt.plot(np.arange(1,26,1),hist1.history['loss'])\n",
        "plt.xlabel('epoch')\n",
        "plt.ylabel('losses')\n",
        "plt.legend(['Val loss', 'Loss'])\n",
        "plt.title('RMSProp')\n",
        "\n",
        "plt.subplots_adjust(top=0.99, bottom=0.001, left=0.10, right=0.95, hspace=0.4,\n",
        "                    wspace=0.35)\n",
        "\n",
        "\n",
        "\n",
        "#plt.plot(np.arange(1,26,1), hist1.history['val_loss'])\n",
        "#plt.plot(np.arange(1,26,1), hist1.history['loss'])\n",
        "#plt.xlabel('epoch')\n",
        "#plt.ylabel('losses')\n",
        "#plt.title('RMSProp')\n",
        "#plt.legend(['Val loss', 'loss'])"
      ],
      "execution_count": 0,
      "outputs": [
        {
          "output_type": "stream",
          "text": [
            "Train on 40000 samples, validate on 10000 samples\n",
            "Epoch 1/25\n",
            "40000/40000 [==============================] - 7s 172us/step - loss: 1.6749 - acc: 0.4050 - val_loss: 1.4516 - val_acc: 0.4875\n",
            "Epoch 2/25\n",
            "40000/40000 [==============================] - 6s 162us/step - loss: 1.3495 - acc: 0.5265 - val_loss: 1.3269 - val_acc: 0.5433\n",
            "Epoch 3/25\n",
            "40000/40000 [==============================] - 7s 166us/step - loss: 1.2122 - acc: 0.5791 - val_loss: 1.2183 - val_acc: 0.5764\n",
            "Epoch 4/25\n",
            "40000/40000 [==============================] - 7s 171us/step - loss: 1.1208 - acc: 0.6091 - val_loss: 1.1631 - val_acc: 0.5965\n",
            "Epoch 5/25\n",
            "40000/40000 [==============================] - 7s 163us/step - loss: 1.0484 - acc: 0.6364 - val_loss: 1.1089 - val_acc: 0.6124\n",
            "Epoch 6/25\n",
            "40000/40000 [==============================] - 6s 162us/step - loss: 0.9894 - acc: 0.6590 - val_loss: 1.0548 - val_acc: 0.6352\n",
            "Epoch 7/25\n",
            "40000/40000 [==============================] - 6s 162us/step - loss: 0.9394 - acc: 0.6757 - val_loss: 1.0195 - val_acc: 0.6437\n",
            "Epoch 8/25\n",
            "40000/40000 [==============================] - 7s 164us/step - loss: 0.8946 - acc: 0.6916 - val_loss: 0.9900 - val_acc: 0.6569\n",
            "Epoch 9/25\n",
            "40000/40000 [==============================] - 7s 163us/step - loss: 0.8539 - acc: 0.7048 - val_loss: 0.9648 - val_acc: 0.6658\n",
            "Epoch 10/25\n",
            "40000/40000 [==============================] - 6s 162us/step - loss: 0.8178 - acc: 0.7189 - val_loss: 0.9437 - val_acc: 0.6752\n",
            "Epoch 11/25\n",
            "40000/40000 [==============================] - 6s 162us/step - loss: 0.7821 - acc: 0.7306 - val_loss: 0.9820 - val_acc: 0.6604\n",
            "Epoch 12/25\n",
            "40000/40000 [==============================] - 6s 162us/step - loss: 0.7501 - acc: 0.7421 - val_loss: 0.9111 - val_acc: 0.6873\n",
            "Epoch 13/25\n",
            "40000/40000 [==============================] - 6s 162us/step - loss: 0.7150 - acc: 0.7570 - val_loss: 0.9014 - val_acc: 0.6926\n",
            "Epoch 14/25\n",
            "40000/40000 [==============================] - 7s 169us/step - loss: 0.6849 - acc: 0.7665 - val_loss: 0.9737 - val_acc: 0.6727\n",
            "Epoch 15/25\n",
            "40000/40000 [==============================] - 7s 167us/step - loss: 0.6523 - acc: 0.7776 - val_loss: 0.9056 - val_acc: 0.6893\n",
            "Epoch 16/25\n",
            "40000/40000 [==============================] - 7s 171us/step - loss: 0.6225 - acc: 0.7872 - val_loss: 0.8979 - val_acc: 0.6963\n",
            "Epoch 17/25\n",
            "40000/40000 [==============================] - 7s 166us/step - loss: 0.5906 - acc: 0.7988 - val_loss: 0.8890 - val_acc: 0.7019\n",
            "Epoch 18/25\n",
            "40000/40000 [==============================] - 7s 163us/step - loss: 0.5612 - acc: 0.8111 - val_loss: 0.9363 - val_acc: 0.6923\n",
            "Epoch 19/25\n",
            "40000/40000 [==============================] - 6s 162us/step - loss: 0.5348 - acc: 0.8205 - val_loss: 0.8967 - val_acc: 0.7072\n",
            "Epoch 20/25\n",
            "40000/40000 [==============================] - 6s 161us/step - loss: 0.5056 - acc: 0.8295 - val_loss: 0.9073 - val_acc: 0.7078\n",
            "Epoch 21/25\n",
            "40000/40000 [==============================] - 7s 171us/step - loss: 0.4762 - acc: 0.8418 - val_loss: 0.9056 - val_acc: 0.7069\n",
            "Epoch 22/25\n",
            "40000/40000 [==============================] - 7s 173us/step - loss: 0.4481 - acc: 0.8501 - val_loss: 0.9178 - val_acc: 0.7065\n",
            "Epoch 23/25\n",
            "40000/40000 [==============================] - 6s 162us/step - loss: 0.4202 - acc: 0.8613 - val_loss: 0.9253 - val_acc: 0.7111\n",
            "Epoch 24/25\n",
            "40000/40000 [==============================] - 6s 161us/step - loss: 0.3926 - acc: 0.8710 - val_loss: 0.9345 - val_acc: 0.7069\n",
            "Epoch 25/25\n",
            "40000/40000 [==============================] - 7s 163us/step - loss: 0.3643 - acc: 0.8821 - val_loss: 0.9397 - val_acc: 0.7098\n"
          ],
          "name": "stdout"
        },
        {
          "output_type": "execute_result",
          "data": {
            "text/plain": [
              "<matplotlib.legend.Legend at 0x7fc5f0922f98>"
            ]
          },
          "metadata": {
            "tags": []
          },
          "execution_count": 52
        },
        {
          "output_type": "display_data",
          "data": {
            "image/png": "[encoded data removed]",
            "text/plain": [
              "<Figure size 432x288 with 1 Axes>"
            ]
          },
          "metadata": {
            "tags": []
          }
        }
      ]
    },
    {
      "cell_type": "markdown",
      "metadata": {
        "id": "onTCQTykuYNn",
        "colab_type": "text"
      },
      "source": [
        "Notemos que efectivamente el error es mucho menor, PERO nuestros datos de validación se alejan considerablemente del error de los datos de testeo, lo cual no implica una mejor del todo en nuestro modelo, ya que esa distancia implica que existe una *overfiting* en nuestro modelo. Lo que sí implica una mejora es en *accuarcy* el cual llega a 70%, lo que es suficiente para asegurar que RMSProp es más preciso en este tipo de situaciones"
      ]
    },
    {
      "cell_type": "code",
      "metadata": {
        "id": "hTXiIbjSgxpN",
        "colab_type": "code",
        "outputId": "15ca4bfd-4a2d-4c4d-e778-58b4fef23a39",
        "colab": {
          "base_uri": "https://localhost:8080/",
          "height": 326
        }
      },
      "source": [
        "plt.figure(1)\n",
        "plt.subplot(211)\n",
        "plt.plot(np.arange(1,26,1), hist.history['val_loss'])\n",
        "plt.plot(np.arange(1,26,1), hist1.history['val_loss'])\n",
        "plt.legend(['SGD', 'RMSPror'])\n",
        "plt.title('Validation loss')\n",
        "plt.axis('on')\n",
        "\n",
        "\n",
        "plt.subplot(212)\n",
        "plt.plot(np.arange(1,26,1), hist.history['loss'])\n",
        "plt.plot(np.arange(1,26,1), hist1.history['loss'])\n",
        "plt.legend(['SGD','RMSProp'])\n",
        "plt.title('TRAIN DATA LOSS')\n",
        "\n",
        "\n",
        "\n",
        "plt.subplots_adjust(top=0.99, bottom=0.08, left=0.1, right=0.99, hspace=0.4,\n",
        "                    wspace=0.35)\n",
        "plt.show()"
      ],
      "execution_count": 0,
      "outputs": [
        {
          "output_type": "display_data",
          "data": {
            "image/png": "[encoded data removed]",
            "text/plain": [
              "<Figure size 432x288 with 2 Axes>"
            ]
          },
          "metadata": {
            "tags": []
          }
        }
      ]
    },
    {
      "cell_type": "markdown",
      "metadata": {
        "id": "TRk0j5VDxBFa",
        "colab_type": "text"
      },
      "source": [
        ""
      ]
    },
    {
      "cell_type": "markdown",
      "metadata": {
        "id": "Ou2_qKIYFQza",
        "colab_type": "text"
      },
      "source": [
        "  **(E)** Para este caso, utilizaremos el método de optimización de RMSProp ya que fue el que tuvo mayor diferencia de error entre el **val loss** y el **loss**. Esto generalmente se debe a un *overfitting*, por lo tanto nuestra intuición nos dice que debemos remover capas del modelo. Pero ello producirá una menor precisión en el modelo, lo cual no compensa la pérdida. Es por eso que la idea es aumentar el número de capas (con ello aumentarán los parámetros y, por lo tanto, el overfiting) y aplicar un regularizador para compensar lo anterior descrito. "
      ]
    },
    {
      "cell_type": "code",
      "metadata": {
        "id": "rE8Ish6sh6jF",
        "colab_type": "code",
        "outputId": "1247b1ca-3dd4-4bd5-aa86-397afd8e267c",
        "colab": {
          "base_uri": "https://localhost:8080/",
          "height": 1709
        }
      },
      "source": [
        "#CREAMOS UN NUEVO MODELO EL CUAL TENDRÁ MÁS CAPAS PARA PODER COMPARAR LOS ERRORES \n",
        "from keras.models import Sequential\n",
        "from keras.layers import Dense, Dropout, Activation, Flatten, Conv2D, MaxPooling2D, BatchNormalization\n",
        "from keras.optimizers import SGD, rmsprop\n",
        "model_capas= Sequential()\n",
        "model_capas.add(Conv2D (32,(3 , 3), padding='same',input_shape=Xnorm_train.shape[1:],activation='relu') )\n",
        "#model_capas.add(Dense(32, input_dim=Xnorm_train.shape[1], activation='relu'))\n",
        "#model_capas.add(BatchNormalization(axis=-1))\n",
        "model_capas.add(MaxPooling2D(2,2))\n",
        "#model_capas.add(Dropout(rate=0.25))\n",
        "model_capas.add(Conv2D(64, (3,3), padding='same', input_shape=Xnorm_train.shape[1:], activation='relu'))\n",
        "\n",
        "#model_capas.add(Dense(64, input_dim=Xnorm_train.shape[1], activation='relu'))\n",
        "#model_capas.add(BatchNormalization(axis=-1))\n",
        "model_capas.add(MaxPooling2D(pool_size=(2,2)))\n",
        "\n",
        "model_capas.add(Dropout(rate=0.25))\n",
        "model_capas.add(Dense(64, input_dim=Xnorm_train.shape[1], activation='relu'))\n",
        "#model_capas.add(Conv2D(128, (3,3), padding='same', input_shape=Xnorm_train.shape[1:],activation='relu'))\n",
        "#model_capas.add(MaxPooling2D(pool_size=(2,2)))\n",
        "#model_capas.add(Conv2D(256, (3,3), padding='same', input_shape=Xnorm_train.shape[1:],activation='relu'))\n",
        "#model_capas.add(MaxPooling2D(pool_size=(2,2)))\n",
        "model_capas.add(Flatten())\n",
        "model_capas.add(Dense(512,activation='relu'))\n",
        "model_capas.add(Dense(10,activation='softmax'))\n",
        "model_capas.summary()\n",
        "\n",
        "opt = rmsprop(lr=1e-4, decay=1e-6)\n",
        "model_capas.compile(optimizer=opt, loss='categorical_crossentropy', metrics=['accuracy'])\n",
        "hist_capas = model_capas.fit(Xnorm_train, y_train, epochs=25, validation_data=(Xnorm_val, y_val))\n",
        "\n",
        "plt.plot(np.arange(1,26,1),hist_capas.history['val_loss'])\n",
        "plt.plot(np.arange(1,26,1), hist_capas.history['loss'])\n",
        "plt.xlabel('Epoch')\n",
        "plt.ylabel('Losses')\n",
        "plt.legend(['Val loss', 'Loss'])\n",
        "plt.title('Capas')"
      ],
      "execution_count": 0,
      "outputs": [
        {
          "output_type": "stream",
          "text": [
            "_________________________________________________________________\n",
            "Layer (type)                 Output Shape              Param #   \n",
            "=================================================================\n",
            "conv2d_33 (Conv2D)           (None, 32, 32, 32)        896       \n",
            "_________________________________________________________________\n",
            "max_pooling2d_31 (MaxPooling (None, 16, 16, 32)        0         \n",
            "_________________________________________________________________\n",
            "conv2d_34 (Conv2D)           (None, 16, 16, 64)        18496     \n",
            "_________________________________________________________________\n",
            "max_pooling2d_32 (MaxPooling (None, 8, 8, 64)          0         \n",
            "_________________________________________________________________\n",
            "dropout_8 (Dropout)          (None, 8, 8, 64)          0         \n",
            "_________________________________________________________________\n",
            "dense_40 (Dense)             (None, 8, 8, 64)          4160      \n",
            "_________________________________________________________________\n",
            "flatten_16 (Flatten)         (None, 4096)              0         \n",
            "_________________________________________________________________\n",
            "dense_41 (Dense)             (None, 512)               2097664   \n",
            "_________________________________________________________________\n",
            "dense_42 (Dense)             (None, 10)                5130      \n",
            "=================================================================\n",
            "Total params: 2,126,346\n",
            "Trainable params: 2,126,346\n",
            "Non-trainable params: 0\n",
            "_________________________________________________________________\n",
            "Train on 40000 samples, validate on 10000 samples\n",
            "Epoch 1/25\n",
            "40000/40000 [==============================] - 9s 223us/step - loss: 1.7568 - acc: 0.3712 - val_loss: 1.5623 - val_acc: 0.4436\n",
            "Epoch 2/25\n",
            "40000/40000 [==============================] - 7s 180us/step - loss: 1.4370 - acc: 0.4872 - val_loss: 1.3466 - val_acc: 0.5249\n",
            "Epoch 3/25\n",
            "40000/40000 [==============================] - 7s 178us/step - loss: 1.2985 - acc: 0.5382 - val_loss: 1.2412 - val_acc: 0.5586\n",
            "Epoch 4/25\n",
            "40000/40000 [==============================] - 7s 178us/step - loss: 1.2114 - acc: 0.5700 - val_loss: 1.1729 - val_acc: 0.5867\n",
            "Epoch 5/25\n",
            "40000/40000 [==============================] - 7s 181us/step - loss: 1.1452 - acc: 0.5951 - val_loss: 1.1103 - val_acc: 0.6098\n",
            "Epoch 6/25\n",
            "40000/40000 [==============================] - 7s 185us/step - loss: 1.0905 - acc: 0.6150 - val_loss: 1.0970 - val_acc: 0.6126\n",
            "Epoch 7/25\n",
            "40000/40000 [==============================] - 8s 190us/step - loss: 1.0384 - acc: 0.6339 - val_loss: 1.0345 - val_acc: 0.6340\n",
            "Epoch 8/25\n",
            "40000/40000 [==============================] - 7s 179us/step - loss: 0.9987 - acc: 0.6499 - val_loss: 1.0132 - val_acc: 0.6430\n",
            "Epoch 9/25\n",
            "40000/40000 [==============================] - 7s 180us/step - loss: 0.9572 - acc: 0.6629 - val_loss: 0.9772 - val_acc: 0.6599\n",
            "Epoch 10/25\n",
            "40000/40000 [==============================] - 7s 180us/step - loss: 0.9204 - acc: 0.6781 - val_loss: 0.9502 - val_acc: 0.6685\n",
            "Epoch 11/25\n",
            "40000/40000 [==============================] - 7s 178us/step - loss: 0.8874 - acc: 0.6899 - val_loss: 0.9405 - val_acc: 0.6745\n",
            "Epoch 12/25\n",
            "40000/40000 [==============================] - 7s 179us/step - loss: 0.8589 - acc: 0.6994 - val_loss: 0.9219 - val_acc: 0.6814\n",
            "Epoch 13/25\n",
            "40000/40000 [==============================] - 7s 180us/step - loss: 0.8274 - acc: 0.7135 - val_loss: 0.8952 - val_acc: 0.6884\n",
            "Epoch 14/25\n",
            "40000/40000 [==============================] - 7s 183us/step - loss: 0.8018 - acc: 0.7205 - val_loss: 0.8803 - val_acc: 0.6921\n",
            "Epoch 15/25\n",
            "40000/40000 [==============================] - 8s 199us/step - loss: 0.7745 - acc: 0.7282 - val_loss: 0.8980 - val_acc: 0.6942\n",
            "Epoch 16/25\n",
            "40000/40000 [==============================] - 7s 182us/step - loss: 0.7494 - acc: 0.7385 - val_loss: 0.8629 - val_acc: 0.7047\n",
            "Epoch 17/25\n",
            "40000/40000 [==============================] - 7s 186us/step - loss: 0.7271 - acc: 0.7480 - val_loss: 0.8622 - val_acc: 0.7089\n",
            "Epoch 18/25\n",
            "40000/40000 [==============================] - 8s 189us/step - loss: 0.7024 - acc: 0.7551 - val_loss: 0.8488 - val_acc: 0.7154\n",
            "Epoch 19/25\n",
            "40000/40000 [==============================] - 7s 179us/step - loss: 0.6781 - acc: 0.7652 - val_loss: 0.8707 - val_acc: 0.7031\n",
            "Epoch 20/25\n",
            "40000/40000 [==============================] - 7s 178us/step - loss: 0.6531 - acc: 0.7736 - val_loss: 0.8212 - val_acc: 0.7194\n",
            "Epoch 21/25\n",
            "40000/40000 [==============================] - 7s 178us/step - loss: 0.6325 - acc: 0.7812 - val_loss: 0.8329 - val_acc: 0.7210\n",
            "Epoch 22/25\n",
            "40000/40000 [==============================] - 7s 179us/step - loss: 0.6099 - acc: 0.7870 - val_loss: 0.8465 - val_acc: 0.7192\n",
            "Epoch 23/25\n",
            "40000/40000 [==============================] - 7s 180us/step - loss: 0.5880 - acc: 0.7967 - val_loss: 0.8172 - val_acc: 0.7254\n",
            "Epoch 24/25\n",
            "40000/40000 [==============================] - 7s 178us/step - loss: 0.5617 - acc: 0.8069 - val_loss: 0.8163 - val_acc: 0.7245\n",
            "Epoch 25/25\n",
            "40000/40000 [==============================] - 7s 178us/step - loss: 0.5441 - acc: 0.8116 - val_loss: 0.8215 - val_acc: 0.7244\n"
          ],
          "name": "stdout"
        },
        {
          "output_type": "execute_result",
          "data": {
            "text/plain": [
              "Text(0.5, 1.0, 'Capas')"
            ]
          },
          "metadata": {
            "tags": []
          },
          "execution_count": 71
        },
        {
          "output_type": "display_data",
          "data": {
            "image/png": "[encoded data removed]",
            "text/plain": [
              "<Figure size 432x288 with 1 Axes>"
            ]
          },
          "metadata": {
            "tags": []
          }
        }
      ]
    },
    {
      "cell_type": "markdown",
      "metadata": {
        "id": "-p4Qo26ZJwbk",
        "colab_type": "text"
      },
      "source": [
        "Como dijimos anteriormente, añadimos una capa densa de 64 entradas lo cuál se esparaba que mejorara el modelo. Ello ocurrió aumentando a un 72% el *accuracy* del modelo, pero lo anterior aumentó la diferencia del loss entre los datos de validación y los datos de entrenamiento. Es por eso que se aplicó un regularizador que logró amortiguar dicho *overfiting*. "
      ]
    },
    {
      "cell_type": "markdown",
      "metadata": {
        "id": "8veOGChNAcXs",
        "colab_type": "text"
      },
      "source": [
        "**(F)** En lo que sigue, añadimos a la primera capa convolucional el doble de filtros para estudiar el significado de esto. Comparamos pirmero el comportamiento del modelo entrenándolo con SGD. Es posible ver que duplicando la cantidad de filtros de la primera capa convolucional no mejorór en absoluto el *accuracy* del modelo.  "
      ]
    },
    {
      "cell_type": "code",
      "metadata": {
        "id": "AKq_N7N2jbEr",
        "colab_type": "code",
        "outputId": "ae5b06d2-285c-4e07-9d69-8a80da2f325a",
        "colab": {
          "base_uri": "https://localhost:8080/",
          "height": 1690
        }
      },
      "source": [
        "#MODELO CON DUPLICADO DE CANTIDAD DE FILTROS EN PRIMERA CAPA CONVOLUCIONAL\n",
        "from keras.models import Sequential\n",
        "from keras.layers import Dense, Dropout, Activation, Flatten, Conv2D, MaxPooling2D\n",
        "model2= Sequential()\n",
        "model2.add(Conv2D (64,(3 , 3), padding='same',input_shape=Xnorm_train.shape[1:],activation='relu') )\n",
        "model2.add(MaxPooling2D(2,2))\n",
        "model2.add(Conv2D(64, (3,3), padding='same', input_shape=Xnorm_train.shape[1:], activation='relu'))\n",
        "model2.add(MaxPooling2D(pool_size=(2,2)))\n",
        "model2.add(Flatten())\n",
        "model2.add(Dense(512,activation='relu'))\n",
        "model2.add(Dense(10,activation='softmax'))\n",
        "model2.summary()\n",
        "\n",
        "opt=SGD(lr=1e-4 , decay=1e-6)\n",
        "model2.compile(optimizer=opt, loss='categorical_crossentropy', metrics=['accuracy'])\n",
        "hist2 = model2.fit(Xnorm_train , y_train, epochs=25, validation_data= (Xnorm_val, y_val))\n",
        "\n",
        "plt.plot(np.arange(1,26,1), hist2.history['val_loss'])\n",
        "plt.plot(np.arange(1,26,1), hist.history['val_loss'])\n",
        "plt.legend(['SGD Model 1', 'SGD model 2'])"
      ],
      "execution_count": 0,
      "outputs": [
        {
          "output_type": "stream",
          "text": [
            "_________________________________________________________________\n",
            "Layer (type)                 Output Shape              Param #   \n",
            "=================================================================\n",
            "conv2d_13 (Conv2D)           (None, 32, 32, 64)        1792      \n",
            "_________________________________________________________________\n",
            "max_pooling2d_13 (MaxPooling (None, 16, 16, 64)        0         \n",
            "_________________________________________________________________\n",
            "conv2d_14 (Conv2D)           (None, 16, 16, 64)        36928     \n",
            "_________________________________________________________________\n",
            "max_pooling2d_14 (MaxPooling (None, 8, 8, 64)          0         \n",
            "_________________________________________________________________\n",
            "flatten_5 (Flatten)          (None, 4096)              0         \n",
            "_________________________________________________________________\n",
            "dense_9 (Dense)              (None, 512)               2097664   \n",
            "_________________________________________________________________\n",
            "dense_10 (Dense)             (None, 10)                5130      \n",
            "=================================================================\n",
            "Total params: 2,141,514\n",
            "Trainable params: 2,141,514\n",
            "Non-trainable params: 0\n",
            "_________________________________________________________________\n",
            "Train on 40000 samples, validate on 10000 samples\n",
            "Epoch 1/25\n",
            "40000/40000 [==============================] - 7s 179us/step - loss: 2.3058 - acc: 0.1043 - val_loss: 2.3010 - val_acc: 0.1085\n",
            "Epoch 2/25\n",
            "40000/40000 [==============================] - 6s 155us/step - loss: 2.2975 - acc: 0.1341 - val_loss: 2.2943 - val_acc: 0.1632\n",
            "Epoch 3/25\n",
            "40000/40000 [==============================] - 6s 156us/step - loss: 2.2914 - acc: 0.1746 - val_loss: 2.2889 - val_acc: 0.1689\n",
            "Epoch 4/25\n",
            "40000/40000 [==============================] - 6s 156us/step - loss: 2.2861 - acc: 0.1775 - val_loss: 2.2838 - val_acc: 0.1697\n",
            "Epoch 5/25\n",
            "40000/40000 [==============================] - 7s 166us/step - loss: 2.2806 - acc: 0.1775 - val_loss: 2.2783 - val_acc: 0.1718\n",
            "Epoch 6/25\n",
            "40000/40000 [==============================] - 7s 164us/step - loss: 2.2747 - acc: 0.1809 - val_loss: 2.2723 - val_acc: 0.1771\n",
            "Epoch 7/25\n",
            "40000/40000 [==============================] - 6s 156us/step - loss: 2.2683 - acc: 0.1852 - val_loss: 2.2659 - val_acc: 0.1831\n",
            "Epoch 8/25\n",
            "40000/40000 [==============================] - 6s 156us/step - loss: 2.2614 - acc: 0.1922 - val_loss: 2.2588 - val_acc: 0.1924\n",
            "Epoch 9/25\n",
            "40000/40000 [==============================] - 6s 156us/step - loss: 2.2536 - acc: 0.2018 - val_loss: 2.2507 - val_acc: 0.1985\n",
            "Epoch 10/25\n",
            "40000/40000 [==============================] - 6s 156us/step - loss: 2.2447 - acc: 0.2092 - val_loss: 2.2414 - val_acc: 0.2065\n",
            "Epoch 11/25\n",
            "40000/40000 [==============================] - 6s 156us/step - loss: 2.2346 - acc: 0.2176 - val_loss: 2.2309 - val_acc: 0.2130\n",
            "Epoch 12/25\n",
            "40000/40000 [==============================] - 6s 158us/step - loss: 2.2233 - acc: 0.2257 - val_loss: 2.2195 - val_acc: 0.2205\n",
            "Epoch 13/25\n",
            "40000/40000 [==============================] - 6s 158us/step - loss: 2.2111 - acc: 0.2310 - val_loss: 2.2070 - val_acc: 0.2300\n",
            "Epoch 14/25\n",
            "40000/40000 [==============================] - 6s 157us/step - loss: 2.1978 - acc: 0.2408 - val_loss: 2.1937 - val_acc: 0.2295\n",
            "Epoch 15/25\n",
            "40000/40000 [==============================] - 6s 158us/step - loss: 2.1837 - acc: 0.2433 - val_loss: 2.1797 - val_acc: 0.2381\n",
            "Epoch 16/25\n",
            "40000/40000 [==============================] - 6s 158us/step - loss: 2.1691 - acc: 0.2475 - val_loss: 2.1655 - val_acc: 0.2529\n",
            "Epoch 17/25\n",
            "40000/40000 [==============================] - 6s 158us/step - loss: 2.1544 - acc: 0.2570 - val_loss: 2.1512 - val_acc: 0.2500\n",
            "Epoch 18/25\n",
            "40000/40000 [==============================] - 7s 168us/step - loss: 2.1397 - acc: 0.2599 - val_loss: 2.1375 - val_acc: 0.2521\n",
            "Epoch 19/25\n",
            "40000/40000 [==============================] - 6s 160us/step - loss: 2.1255 - acc: 0.2636 - val_loss: 2.1240 - val_acc: 0.2571\n",
            "Epoch 20/25\n",
            "40000/40000 [==============================] - 6s 156us/step - loss: 2.1115 - acc: 0.2703 - val_loss: 2.1109 - val_acc: 0.2624\n",
            "Epoch 21/25\n",
            "40000/40000 [==============================] - 6s 157us/step - loss: 2.0977 - acc: 0.2738 - val_loss: 2.0982 - val_acc: 0.2639\n",
            "Epoch 22/25\n",
            "40000/40000 [==============================] - 6s 156us/step - loss: 2.0844 - acc: 0.2801 - val_loss: 2.0853 - val_acc: 0.2732\n",
            "Epoch 23/25\n",
            "40000/40000 [==============================] - 6s 157us/step - loss: 2.0712 - acc: 0.2844 - val_loss: 2.0732 - val_acc: 0.2751\n",
            "Epoch 24/25\n",
            "40000/40000 [==============================] - 6s 157us/step - loss: 2.0582 - acc: 0.2883 - val_loss: 2.0605 - val_acc: 0.2821\n",
            "Epoch 25/25\n",
            "40000/40000 [==============================] - 6s 156us/step - loss: 2.0451 - acc: 0.2924 - val_loss: 2.0487 - val_acc: 0.2889\n"
          ],
          "name": "stdout"
        },
        {
          "output_type": "error",
          "ename": "NameError",
          "evalue": "ignored",
          "traceback": [
            "\u001b[0;31m---------------------------------------------------------------------------\u001b[0m",
            "\u001b[0;31mNameError\u001b[0m                                 Traceback (most recent call last)",
            "\u001b[0;32m<ipython-input-152-35c7b9dc4f5e>\u001b[0m in \u001b[0;36m<module>\u001b[0;34m()\u001b[0m\n\u001b[1;32m     16\u001b[0m \u001b[0;34m\u001b[0m\u001b[0m\n\u001b[1;32m     17\u001b[0m \u001b[0mplt\u001b[0m\u001b[0;34m.\u001b[0m\u001b[0mplot\u001b[0m\u001b[0;34m(\u001b[0m\u001b[0mnp\u001b[0m\u001b[0;34m.\u001b[0m\u001b[0marange\u001b[0m\u001b[0;34m(\u001b[0m\u001b[0;36m1\u001b[0m\u001b[0;34m,\u001b[0m\u001b[0;36m26\u001b[0m\u001b[0;34m,\u001b[0m\u001b[0;36m1\u001b[0m\u001b[0;34m)\u001b[0m\u001b[0;34m,\u001b[0m \u001b[0mhist2\u001b[0m\u001b[0;34m.\u001b[0m\u001b[0mhistory\u001b[0m\u001b[0;34m[\u001b[0m\u001b[0;34m'val_loss'\u001b[0m\u001b[0;34m]\u001b[0m\u001b[0;34m)\u001b[0m\u001b[0;34m\u001b[0m\u001b[0;34m\u001b[0m\u001b[0m\n\u001b[0;32m---> 18\u001b[0;31m \u001b[0mplt\u001b[0m\u001b[0;34m.\u001b[0m\u001b[0mplot\u001b[0m\u001b[0;34m(\u001b[0m\u001b[0mnp\u001b[0m\u001b[0;34m.\u001b[0m\u001b[0marange\u001b[0m\u001b[0;34m(\u001b[0m\u001b[0;36m1\u001b[0m\u001b[0;34m,\u001b[0m\u001b[0;36m26\u001b[0m\u001b[0;34m,\u001b[0m\u001b[0;36m1\u001b[0m\u001b[0;34m)\u001b[0m\u001b[0;34m,\u001b[0m \u001b[0mhist\u001b[0m\u001b[0;34m.\u001b[0m\u001b[0mhistory\u001b[0m\u001b[0;34m[\u001b[0m\u001b[0;34m'val_loss'\u001b[0m\u001b[0;34m]\u001b[0m\u001b[0;34m)\u001b[0m\u001b[0;34m\u001b[0m\u001b[0;34m\u001b[0m\u001b[0m\n\u001b[0m\u001b[1;32m     19\u001b[0m \u001b[0mplt\u001b[0m\u001b[0;34m.\u001b[0m\u001b[0mlegend\u001b[0m\u001b[0;34m(\u001b[0m\u001b[0;34m[\u001b[0m\u001b[0;34m'SGD Model 1'\u001b[0m\u001b[0;34m,\u001b[0m \u001b[0;34m'SGD model 2'\u001b[0m\u001b[0;34m]\u001b[0m\u001b[0;34m)\u001b[0m\u001b[0;34m\u001b[0m\u001b[0;34m\u001b[0m\u001b[0m\n",
            "\u001b[0;31mNameError\u001b[0m: name 'hist' is not defined"
          ]
        },
        {
          "output_type": "display_data",
          "data": {
            "image/png": "[encoded data removed]",
            "text/plain": [
              "<Figure size 432x288 with 1 Axes>"
            ]
          },
          "metadata": {
            "tags": []
          }
        }
      ]
    },
    {
      "cell_type": "markdown",
      "metadata": {
        "id": "-wVlNE4AoqbP",
        "colab_type": "text"
      },
      "source": [
        "Para el caso SGD, no se nota un cambio entre la diferencia de loss entre los datos de validación y pérdida, pero lo que sí se puede observar es que el *accuracy* baja a 25% en contraste con el modelo original que tiene un 29%. En general, esto no conviene para modelo y no interesa tanto proseguir con SGD ya que se vió que el modelo funciona mucho mejor con RMSProp. Veamos qué sucede al aumentar la cantidad de filtros de la primera capa convolucional"
      ]
    },
    {
      "cell_type": "code",
      "metadata": {
        "id": "WGLa7vhg07H2",
        "colab_type": "code",
        "outputId": "622f0798-3704-476a-8040-985e5380ed91",
        "colab": {
          "base_uri": "https://localhost:8080/",
          "height": 1339
        }
      },
      "source": [
        "#Análogamente, probamos aumentar la cantidad de filtros pero entrenando la red con RMSProp\n",
        "\n",
        "from keras.models import Sequential\n",
        "from keras.layers import Dense, Dropout, Activation, Flatten, Conv2D, MaxPooling2D\n",
        "model2_rms= Sequential()\n",
        "model2_rms.add(Conv2D (64,(6 , 6), padding='same',input_shape=Xnorm_train.shape[1:],activation='relu') )\n",
        "model2_rms.add(MaxPooling2D(2,2))\n",
        "model2_rms.add(Conv2D(64, (6,6), padding='same', input_shape=Xnorm_train.shape[1:], activation='relu'))\n",
        "model2_rms.add(MaxPooling2D(pool_size=(2,2)))\n",
        "model2_rms.add(Flatten())\n",
        "model2_rms.add(Dense(512,activation='relu'))\n",
        "model2_rms.add(Dense(10,activation='softmax'))\n",
        "model2_rms.summary()\n",
        "\n",
        "opt=rmsprop(lr=1e-4, decay=1e-6)\n",
        "model2_rms.compile(optimizer=opt, loss='categorical_crossentropy', metrics=['accuracy'])\n",
        "hist2_rms = model2_rms.fit(Xnorm_train, y_train, epochs=25, validation_data=(Xnorm_val, y_val))\n",
        "\n"
      ],
      "execution_count": 0,
      "outputs": [
        {
          "output_type": "stream",
          "text": [
            "_________________________________________________________________\n",
            "Layer (type)                 Output Shape              Param #   \n",
            "=================================================================\n",
            "conv2d_35 (Conv2D)           (None, 32, 32, 64)        6976      \n",
            "_________________________________________________________________\n",
            "max_pooling2d_33 (MaxPooling (None, 16, 16, 64)        0         \n",
            "_________________________________________________________________\n",
            "conv2d_36 (Conv2D)           (None, 16, 16, 64)        147520    \n",
            "_________________________________________________________________\n",
            "max_pooling2d_34 (MaxPooling (None, 8, 8, 64)          0         \n",
            "_________________________________________________________________\n",
            "flatten_17 (Flatten)         (None, 4096)              0         \n",
            "_________________________________________________________________\n",
            "dense_43 (Dense)             (None, 512)               2097664   \n",
            "_________________________________________________________________\n",
            "dense_44 (Dense)             (None, 10)                5130      \n",
            "=================================================================\n",
            "Total params: 2,257,290\n",
            "Trainable params: 2,257,290\n",
            "Non-trainable params: 0\n",
            "_________________________________________________________________\n",
            "Train on 40000 samples, validate on 10000 samples\n",
            "Epoch 1/25\n",
            "40000/40000 [==============================] - 11s 276us/step - loss: 1.6291 - acc: 0.4153 - val_loss: 1.4184 - val_acc: 0.4941\n",
            "Epoch 2/25\n",
            "40000/40000 [==============================] - 9s 230us/step - loss: 1.3010 - acc: 0.5390 - val_loss: 1.3130 - val_acc: 0.5306\n",
            "Epoch 3/25\n",
            "40000/40000 [==============================] - 9s 229us/step - loss: 1.1440 - acc: 0.5998 - val_loss: 1.1393 - val_acc: 0.6007\n",
            "Epoch 4/25\n",
            "40000/40000 [==============================] - 10s 240us/step - loss: 1.0377 - acc: 0.6396 - val_loss: 1.0702 - val_acc: 0.6262\n",
            "Epoch 5/25\n",
            "40000/40000 [==============================] - 9s 228us/step - loss: 0.9566 - acc: 0.6674 - val_loss: 1.0083 - val_acc: 0.6506\n",
            "Epoch 6/25\n",
            "40000/40000 [==============================] - 9s 229us/step - loss: 0.8870 - acc: 0.6947 - val_loss: 0.9712 - val_acc: 0.6706\n",
            "Epoch 7/25\n",
            "40000/40000 [==============================] - 9s 228us/step - loss: 0.8242 - acc: 0.7165 - val_loss: 0.9306 - val_acc: 0.6808\n",
            "Epoch 8/25\n",
            "40000/40000 [==============================] - 10s 245us/step - loss: 0.7668 - acc: 0.7363 - val_loss: 0.9626 - val_acc: 0.6740\n",
            "Epoch 9/25\n",
            "40000/40000 [==============================] - 9s 231us/step - loss: 0.7125 - acc: 0.7539 - val_loss: 0.9411 - val_acc: 0.6806\n",
            "Epoch 10/25\n",
            "40000/40000 [==============================] - 9s 229us/step - loss: 0.6600 - acc: 0.7750 - val_loss: 0.9045 - val_acc: 0.6981\n",
            "Epoch 11/25\n",
            "40000/40000 [==============================] - 9s 228us/step - loss: 0.6096 - acc: 0.7930 - val_loss: 0.9244 - val_acc: 0.6922\n",
            "Epoch 12/25\n",
            "40000/40000 [==============================] - 9s 235us/step - loss: 0.5596 - acc: 0.8095 - val_loss: 0.9122 - val_acc: 0.6961\n",
            "Epoch 13/25\n",
            "40000/40000 [==============================] - 9s 237us/step - loss: 0.5142 - acc: 0.8285 - val_loss: 0.9308 - val_acc: 0.7010\n",
            "Epoch 14/25\n",
            "40000/40000 [==============================] - 9s 229us/step - loss: 0.4666 - acc: 0.8430 - val_loss: 0.9494 - val_acc: 0.6952\n",
            "Epoch 15/25\n",
            "40000/40000 [==============================] - 9s 230us/step - loss: 0.4218 - acc: 0.8581 - val_loss: 0.9281 - val_acc: 0.7107\n",
            "Epoch 16/25\n",
            "40000/40000 [==============================] - 9s 230us/step - loss: 0.3775 - acc: 0.8749 - val_loss: 0.9727 - val_acc: 0.7061\n",
            "Epoch 17/25\n",
            "40000/40000 [==============================] - 9s 229us/step - loss: 0.3366 - acc: 0.8902 - val_loss: 1.0180 - val_acc: 0.6983\n",
            "Epoch 18/25\n",
            "40000/40000 [==============================] - 9s 230us/step - loss: 0.2943 - acc: 0.9055 - val_loss: 1.0052 - val_acc: 0.7054\n",
            "Epoch 19/25\n",
            "40000/40000 [==============================] - 9s 231us/step - loss: 0.2597 - acc: 0.9167 - val_loss: 1.0439 - val_acc: 0.7035\n",
            "Epoch 20/25\n",
            "40000/40000 [==============================] - 9s 230us/step - loss: 0.2240 - acc: 0.9308 - val_loss: 1.0843 - val_acc: 0.7062\n",
            "Epoch 21/25\n",
            "40000/40000 [==============================] - 10s 239us/step - loss: 0.1935 - acc: 0.9405 - val_loss: 1.1176 - val_acc: 0.7038\n",
            "Epoch 22/25\n",
            "40000/40000 [==============================] - 9s 233us/step - loss: 0.1629 - acc: 0.9504 - val_loss: 1.2417 - val_acc: 0.6960\n",
            "Epoch 23/25\n",
            "40000/40000 [==============================] - 9s 229us/step - loss: 0.1382 - acc: 0.9592 - val_loss: 1.2593 - val_acc: 0.7067\n",
            "Epoch 24/25\n",
            "40000/40000 [==============================] - 9s 229us/step - loss: 0.1164 - acc: 0.9683 - val_loss: 1.2678 - val_acc: 0.7070\n",
            "Epoch 25/25\n",
            "40000/40000 [==============================] - 9s 230us/step - loss: 0.0967 - acc: 0.9729 - val_loss: 1.3983 - val_acc: 0.6981\n"
          ],
          "name": "stdout"
        }
      ]
    },
    {
      "cell_type": "code",
      "metadata": {
        "id": "iu77t5z02EZq",
        "colab_type": "code",
        "outputId": "b23b1418-ab22-43b6-9e98-62d67a414c51",
        "colab": {
          "base_uri": "https://localhost:8080/",
          "height": 322
        }
      },
      "source": [
        "plt.figure(2)\n",
        "plt.subplot(211)\n",
        "plt.plot(np.arange(1,26,1), hist1.history['val_loss'])\n",
        "plt.plot(np.arange(1,26,1), hist2_rms.history['val_loss'])\n",
        "plt.legend(['RMSProp inicial', 'RMSProp doble de filtros'])\n",
        "\n",
        "plt.subplot(212)\n",
        "plt.plot(np.arange(1,26,1), hist1.history['loss'])\n",
        "plt.plot(np.arange(1,26,1), hist2_rms.history['loss'])\n",
        "plt.legend(['RMSProp inicial', 'RMSProp doble de filtros'])\n",
        "\n",
        "plt.subplots_adjust(top=0.99, bottom=0.05, left=0.1, right=0.99, hspace=0.4,\n",
        "                    wspace=0.35)\n",
        "plt.show()"
      ],
      "execution_count": 0,
      "outputs": [
        {
          "output_type": "display_data",
          "data": {
            "image/png": "[encoded data removed]",
            "text/plain": [
              "<Figure size 432x288 with 2 Axes>"
            ]
          },
          "metadata": {
            "tags": []
          }
        }
      ]
    },
    {
      "cell_type": "markdown",
      "metadata": {
        "id": "F-zBvwbFSmaX",
        "colab_type": "text"
      },
      "source": [
        "Es posible observar que el *accuracy* disminuyó en 1% llegando a 69% (casi 70% en realidad), esto se contrapone con lo hecho en el ejercicio **(E)**."
      ]
    },
    {
      "cell_type": "markdown",
      "metadata": {
        "id": "ogsPgp73Ak8i",
        "colab_type": "text"
      },
      "source": [
        "(g) Análogo a lo anterior, en vez de duplicar la cantidad de filtros utilizados, duplicamos el tamaño de éstos."
      ]
    },
    {
      "cell_type": "code",
      "metadata": {
        "id": "pqZK8WqEAXQV",
        "colab_type": "code",
        "outputId": "9a4cd5c6-94f9-4617-ab06-5e00e020b147",
        "colab": {
          "base_uri": "https://localhost:8080/",
          "height": 1635
        }
      },
      "source": [
        "#MODELO CON DUPLICADO DE TAMAÑO DE FILTROS \n",
        "from keras.models import Sequential\n",
        "from keras.layers import Dense, Dropout, Activation, Flatten, Conv2D, MaxPooling2D\n",
        "model3= Sequential()\n",
        "model3.add(Conv2D (32,(6 , 6), padding='same',input_shape=Xnorm_train.shape[1:],activation='relu') )\n",
        "model3.add(MaxPooling2D(2,2))\n",
        "model3.add(Conv2D(64, (6,6), padding='same', input_shape=Xnorm_train.shape[1:], activation='relu'))\n",
        "model3.add(MaxPooling2D(pool_size=(2,2)))\n",
        "model3.add(Flatten())\n",
        "model3.add(Dense(512,activation='relu'))\n",
        "model3.add(Dense(10,activation='softmax'))\n",
        "model3.summary()\n",
        "\n",
        "opt=SGD(lr=1e-4, decay=1e-6)\n",
        "model3.compile(optimizer=opt, loss='categorical_crossentropy', metrics=['accuracy'])\n",
        "hist3 = model3.fit(Xnorm_train, y_train, epochs=25, validation_data=(Xnorm_val, y_val))\n",
        "\n",
        "plt.figure(3)\n",
        "plt.subplot(211)\n",
        "plt.plot(np.arange(1,26,1), hist.history['val_loss'])\n",
        "plt.plot(np.arange(1,26,1), hist3.history['val_loss'])\n",
        "plt.legend(['SGD inicial', 'SGD doble tamaño filtros'])\n",
        "\n",
        "plt.subplot(212)\n",
        "plt.plot(np.arange(1,26,1), hist.history['loss'])\n",
        "plt.plot(np.arange(1,26,1), hist3.history['loss'])\n",
        "plt.legend(['SGD inicial', 'SGD doble tamaño filtros'])\n",
        "\n",
        "plt.subplots_adjust(top=0.99, bottom=0.08, left=0.1, right=0.99, hspace=0.4,\n",
        "                    wspace=0.35)\n",
        "plt.show()"
      ],
      "execution_count": 0,
      "outputs": [
        {
          "output_type": "stream",
          "text": [
            "_________________________________________________________________\n",
            "Layer (type)                 Output Shape              Param #   \n",
            "=================================================================\n",
            "conv2d_37 (Conv2D)           (None, 32, 32, 32)        3488      \n",
            "_________________________________________________________________\n",
            "max_pooling2d_35 (MaxPooling (None, 16, 16, 32)        0         \n",
            "_________________________________________________________________\n",
            "conv2d_38 (Conv2D)           (None, 16, 16, 64)        73792     \n",
            "_________________________________________________________________\n",
            "max_pooling2d_36 (MaxPooling (None, 8, 8, 64)          0         \n",
            "_________________________________________________________________\n",
            "flatten_18 (Flatten)         (None, 4096)              0         \n",
            "_________________________________________________________________\n",
            "dense_45 (Dense)             (None, 512)               2097664   \n",
            "_________________________________________________________________\n",
            "dense_46 (Dense)             (None, 10)                5130      \n",
            "=================================================================\n",
            "Total params: 2,180,074\n",
            "Trainable params: 2,180,074\n",
            "Non-trainable params: 0\n",
            "_________________________________________________________________\n",
            "Train on 40000 samples, validate on 10000 samples\n",
            "Epoch 1/25\n",
            "40000/40000 [==============================] - 9s 222us/step - loss: 2.2988 - acc: 0.1157 - val_loss: 2.2951 - val_acc: 0.1301\n",
            "Epoch 2/25\n",
            "40000/40000 [==============================] - 7s 176us/step - loss: 2.2907 - acc: 0.1419 - val_loss: 2.2876 - val_acc: 0.1418\n",
            "Epoch 3/25\n",
            "40000/40000 [==============================] - 7s 175us/step - loss: 2.2828 - acc: 0.1589 - val_loss: 2.2794 - val_acc: 0.1593\n",
            "Epoch 4/25\n",
            "40000/40000 [==============================] - 7s 184us/step - loss: 2.2736 - acc: 0.1798 - val_loss: 2.2697 - val_acc: 0.1788\n",
            "Epoch 5/25\n",
            "40000/40000 [==============================] - 7s 184us/step - loss: 2.2627 - acc: 0.1936 - val_loss: 2.2576 - val_acc: 0.1998\n",
            "Epoch 6/25\n",
            "40000/40000 [==============================] - 7s 175us/step - loss: 2.2488 - acc: 0.2085 - val_loss: 2.2422 - val_acc: 0.2060\n",
            "Epoch 7/25\n",
            "40000/40000 [==============================] - 7s 175us/step - loss: 2.2312 - acc: 0.2178 - val_loss: 2.2228 - val_acc: 0.2231\n",
            "Epoch 8/25\n",
            "40000/40000 [==============================] - 7s 174us/step - loss: 2.2091 - acc: 0.2322 - val_loss: 2.1984 - val_acc: 0.2377\n",
            "Epoch 9/25\n",
            "40000/40000 [==============================] - 7s 175us/step - loss: 2.1819 - acc: 0.2463 - val_loss: 2.1690 - val_acc: 0.2458\n",
            "Epoch 10/25\n",
            "40000/40000 [==============================] - 7s 175us/step - loss: 2.1502 - acc: 0.2581 - val_loss: 2.1366 - val_acc: 0.2499\n",
            "Epoch 11/25\n",
            "40000/40000 [==============================] - 7s 175us/step - loss: 2.1161 - acc: 0.2666 - val_loss: 2.1027 - val_acc: 0.2548\n",
            "Epoch 12/25\n",
            "40000/40000 [==============================] - 7s 174us/step - loss: 2.0818 - acc: 0.2727 - val_loss: 2.0706 - val_acc: 0.2711\n",
            "Epoch 13/25\n",
            "40000/40000 [==============================] - 7s 174us/step - loss: 2.0506 - acc: 0.2831 - val_loss: 2.0416 - val_acc: 0.2794\n",
            "Epoch 14/25\n",
            "40000/40000 [==============================] - 7s 173us/step - loss: 2.0238 - acc: 0.2880 - val_loss: 2.0187 - val_acc: 0.2865\n",
            "Epoch 15/25\n",
            "40000/40000 [==============================] - 7s 178us/step - loss: 2.0020 - acc: 0.2946 - val_loss: 2.0001 - val_acc: 0.2890\n",
            "Epoch 16/25\n",
            "40000/40000 [==============================] - 8s 189us/step - loss: 1.9843 - acc: 0.3008 - val_loss: 1.9856 - val_acc: 0.2942\n",
            "Epoch 17/25\n",
            "40000/40000 [==============================] - 7s 175us/step - loss: 1.9698 - acc: 0.3044 - val_loss: 1.9743 - val_acc: 0.2974\n",
            "Epoch 18/25\n",
            "40000/40000 [==============================] - 7s 174us/step - loss: 1.9576 - acc: 0.3119 - val_loss: 1.9636 - val_acc: 0.3047\n",
            "Epoch 19/25\n",
            "40000/40000 [==============================] - 7s 174us/step - loss: 1.9468 - acc: 0.3150 - val_loss: 1.9543 - val_acc: 0.3117\n",
            "Epoch 20/25\n",
            "40000/40000 [==============================] - 7s 176us/step - loss: 1.9369 - acc: 0.3204 - val_loss: 1.9449 - val_acc: 0.3140\n",
            "Epoch 21/25\n",
            "40000/40000 [==============================] - 7s 174us/step - loss: 1.9274 - acc: 0.3239 - val_loss: 1.9364 - val_acc: 0.3216\n",
            "Epoch 22/25\n",
            "40000/40000 [==============================] - 7s 181us/step - loss: 1.9184 - acc: 0.3289 - val_loss: 1.9284 - val_acc: 0.3205\n",
            "Epoch 23/25\n",
            "40000/40000 [==============================] - 7s 179us/step - loss: 1.9097 - acc: 0.3322 - val_loss: 1.9203 - val_acc: 0.3284\n",
            "Epoch 24/25\n",
            "40000/40000 [==============================] - 7s 174us/step - loss: 1.9013 - acc: 0.3369 - val_loss: 1.9127 - val_acc: 0.3292\n",
            "Epoch 25/25\n",
            "40000/40000 [==============================] - 7s 174us/step - loss: 1.8927 - acc: 0.3401 - val_loss: 1.9060 - val_acc: 0.3367\n"
          ],
          "name": "stdout"
        },
        {
          "output_type": "display_data",
          "data": {
            "image/png": "[encoded data removed]",
            "text/plain": [
              "<Figure size 432x288 with 2 Axes>"
            ]
          },
          "metadata": {
            "tags": []
          }
        }
      ]
    },
    {
      "cell_type": "markdown",
      "metadata": {
        "id": "UUNZylkYT61O",
        "colab_type": "text"
      },
      "source": [
        "En este caso, al aumentar el tamaño de los filtros, se aumentó a 33% el accuracy del modelo. Ello puede ser debido a que al ser el filtro más grande y mantener la misma cantidad, la red logra ver y almacenar más parámetros."
      ]
    },
    {
      "cell_type": "code",
      "metadata": {
        "id": "ej7Ud5cq2R47",
        "colab_type": "code",
        "outputId": "1649c091-498b-40e9-afbb-fca198a68ddf",
        "colab": {
          "base_uri": "https://localhost:8080/",
          "height": 1702
        }
      },
      "source": [
        "#Análogamente al ejercicio g, lo probamos con RMSProp\n",
        "from keras.models import Sequential\n",
        "from keras.layers import Dense, Dropout, Activation, Flatten, Conv2D, MaxPooling2D\n",
        "model3_rms= Sequential()\n",
        "model3_rms.add(Conv2D (32,(6 , 6), padding='same',input_shape=Xnorm_train.shape[1:],activation='relu') )\n",
        "model3_rms.add(MaxPooling2D(2,2))\n",
        "model3_rms.add(Conv2D(64, (6,6), padding='same', input_shape=Xnorm_train.shape[1:], activation='relu'))\n",
        "model3_rms.add(MaxPooling2D(pool_size=(2,2)))\n",
        "model3_rms.add(Flatten())\n",
        "model3_rms.add(Dense(512,activation='relu'))\n",
        "model3_rms.add(Dense(10,activation='softmax'))\n",
        "model3_rms.summary()\n",
        "\n",
        "opt=rmsprop(lr=1e-4, decay=1e-6)\n",
        "model3_rms.compile(optimizer=opt, loss='categorical_crossentropy', metrics=['accuracy'])\n",
        "hist3_rms = model3_rms.fit(Xnorm_train, y_train, epochs=25, validation_data=(Xnorm_val, y_val))\n",
        "\n",
        "plt.figure(3)\n",
        "plt.subplot(211)\n",
        "plt.plot(np.arange(1,26,1), hist1.history['val_loss'])\n",
        "plt.plot(np.arange(1,26,1), hist3_rms.history['val_loss'])\n",
        "plt.legend(['RMSProp inicial', 'RMSProp doble tamaño filtros'])\n",
        "\n",
        "plt.subplot(212)\n",
        "plt.plot(np.arange(1,26,1), hist1.history['loss'])\n",
        "plt.plot(np.arange(1,26,1), hist3_rms.history['loss'])\n",
        "plt.legend(['RMSProp inicial', 'RMSProp doble tamaño filtros'])\n",
        "\n",
        "plt.subplots_adjust(top=0.99, bottom=0.08, left=0.1, right=0.99, hspace=0.4,\n",
        "                    wspace=0.35)\n",
        "plt.show()"
      ],
      "execution_count": 0,
      "outputs": [
        {
          "output_type": "stream",
          "text": [
            "_________________________________________________________________\n",
            "Layer (type)                 Output Shape              Param #   \n",
            "=================================================================\n",
            "conv2d_39 (Conv2D)           (None, 32, 32, 32)        3488      \n",
            "_________________________________________________________________\n",
            "max_pooling2d_37 (MaxPooling (None, 16, 16, 32)        0         \n",
            "_________________________________________________________________\n",
            "conv2d_40 (Conv2D)           (None, 16, 16, 64)        73792     \n",
            "_________________________________________________________________\n",
            "max_pooling2d_38 (MaxPooling (None, 8, 8, 64)          0         \n",
            "_________________________________________________________________\n",
            "flatten_19 (Flatten)         (None, 4096)              0         \n",
            "_________________________________________________________________\n",
            "dense_47 (Dense)             (None, 512)               2097664   \n",
            "_________________________________________________________________\n",
            "dense_48 (Dense)             (None, 10)                5130      \n",
            "=================================================================\n",
            "Total params: 2,180,074\n",
            "Trainable params: 2,180,074\n",
            "Non-trainable params: 0\n",
            "_________________________________________________________________\n",
            "Train on 40000 samples, validate on 10000 samples\n",
            "Epoch 1/25\n",
            "40000/40000 [==============================] - 10s 243us/step - loss: 1.6557 - acc: 0.4080 - val_loss: 1.4667 - val_acc: 0.4732\n",
            "Epoch 2/25\n",
            "40000/40000 [==============================] - 8s 201us/step - loss: 1.3476 - acc: 0.5191 - val_loss: 1.2814 - val_acc: 0.5509\n",
            "Epoch 3/25\n",
            "40000/40000 [==============================] - 8s 201us/step - loss: 1.2040 - acc: 0.5774 - val_loss: 1.2183 - val_acc: 0.5781\n",
            "Epoch 4/25\n",
            "40000/40000 [==============================] - 8s 201us/step - loss: 1.0987 - acc: 0.6132 - val_loss: 1.1055 - val_acc: 0.6175\n",
            "Epoch 5/25\n",
            "40000/40000 [==============================] - 8s 200us/step - loss: 1.0168 - acc: 0.6471 - val_loss: 1.0608 - val_acc: 0.6345\n",
            "Epoch 6/25\n",
            "40000/40000 [==============================] - 8s 200us/step - loss: 0.9499 - acc: 0.6695 - val_loss: 1.0158 - val_acc: 0.6425\n",
            "Epoch 7/25\n",
            "40000/40000 [==============================] - 8s 208us/step - loss: 0.8895 - acc: 0.6910 - val_loss: 1.0007 - val_acc: 0.6551\n",
            "Epoch 8/25\n",
            "40000/40000 [==============================] - 8s 209us/step - loss: 0.8364 - acc: 0.7088 - val_loss: 0.9621 - val_acc: 0.6684\n",
            "Epoch 9/25\n",
            "40000/40000 [==============================] - 8s 201us/step - loss: 0.7866 - acc: 0.7287 - val_loss: 0.9489 - val_acc: 0.6796\n",
            "Epoch 10/25\n",
            "40000/40000 [==============================] - 8s 200us/step - loss: 0.7387 - acc: 0.7469 - val_loss: 0.9277 - val_acc: 0.6834\n",
            "Epoch 11/25\n",
            "40000/40000 [==============================] - 8s 200us/step - loss: 0.6942 - acc: 0.7623 - val_loss: 0.9818 - val_acc: 0.6726\n",
            "Epoch 12/25\n",
            "40000/40000 [==============================] - 8s 200us/step - loss: 0.6483 - acc: 0.7780 - val_loss: 1.0154 - val_acc: 0.6629\n",
            "Epoch 13/25\n",
            "40000/40000 [==============================] - 8s 199us/step - loss: 0.6036 - acc: 0.7945 - val_loss: 0.9550 - val_acc: 0.6800\n",
            "Epoch 14/25\n",
            "40000/40000 [==============================] - 8s 199us/step - loss: 0.5611 - acc: 0.8108 - val_loss: 0.9526 - val_acc: 0.6884\n",
            "Epoch 15/25\n",
            "40000/40000 [==============================] - 8s 200us/step - loss: 0.5182 - acc: 0.8262 - val_loss: 0.9788 - val_acc: 0.6884\n",
            "Epoch 16/25\n",
            "40000/40000 [==============================] - 8s 201us/step - loss: 0.4770 - acc: 0.8392 - val_loss: 0.9605 - val_acc: 0.6949\n",
            "Epoch 17/25\n",
            "40000/40000 [==============================] - 8s 210us/step - loss: 0.4356 - acc: 0.8559 - val_loss: 0.9491 - val_acc: 0.6999\n",
            "Epoch 18/25\n",
            "40000/40000 [==============================] - 8s 211us/step - loss: 0.3985 - acc: 0.8665 - val_loss: 1.0115 - val_acc: 0.6939\n",
            "Epoch 19/25\n",
            "40000/40000 [==============================] - 8s 202us/step - loss: 0.3590 - acc: 0.8828 - val_loss: 1.0538 - val_acc: 0.6889\n",
            "Epoch 20/25\n",
            "40000/40000 [==============================] - 8s 201us/step - loss: 0.3222 - acc: 0.8954 - val_loss: 1.0661 - val_acc: 0.6939\n",
            "Epoch 21/25\n",
            "40000/40000 [==============================] - 8s 211us/step - loss: 0.2876 - acc: 0.9083 - val_loss: 1.0465 - val_acc: 0.7035\n",
            "Epoch 22/25\n",
            "40000/40000 [==============================] - 8s 201us/step - loss: 0.2561 - acc: 0.9209 - val_loss: 1.0991 - val_acc: 0.6984\n",
            "Epoch 23/25\n",
            "40000/40000 [==============================] - 8s 200us/step - loss: 0.2240 - acc: 0.9318 - val_loss: 1.1279 - val_acc: 0.6961\n",
            "Epoch 24/25\n",
            "40000/40000 [==============================] - 8s 201us/step - loss: 0.1955 - acc: 0.9408 - val_loss: 1.1758 - val_acc: 0.6991\n",
            "Epoch 25/25\n",
            "40000/40000 [==============================] - 8s 200us/step - loss: 0.1694 - acc: 0.9500 - val_loss: 1.2487 - val_acc: 0.6939\n"
          ],
          "name": "stdout"
        },
        {
          "output_type": "error",
          "ename": "NameError",
          "evalue": "ignored",
          "traceback": [
            "\u001b[0;31m---------------------------------------------------------------------------\u001b[0m",
            "\u001b[0;31mNameError\u001b[0m                                 Traceback (most recent call last)",
            "\u001b[0;32m<ipython-input-76-af85788b53f7>\u001b[0m in \u001b[0;36m<module>\u001b[0;34m()\u001b[0m\n\u001b[1;32m     17\u001b[0m \u001b[0mplt\u001b[0m\u001b[0;34m.\u001b[0m\u001b[0mfigure\u001b[0m\u001b[0;34m(\u001b[0m\u001b[0;36m3\u001b[0m\u001b[0;34m)\u001b[0m\u001b[0;34m\u001b[0m\u001b[0;34m\u001b[0m\u001b[0m\n\u001b[1;32m     18\u001b[0m \u001b[0mplt\u001b[0m\u001b[0;34m.\u001b[0m\u001b[0msubplot\u001b[0m\u001b[0;34m(\u001b[0m\u001b[0;36m211\u001b[0m\u001b[0;34m)\u001b[0m\u001b[0;34m\u001b[0m\u001b[0;34m\u001b[0m\u001b[0m\n\u001b[0;32m---> 19\u001b[0;31m \u001b[0mplt\u001b[0m\u001b[0;34m.\u001b[0m\u001b[0mplot\u001b[0m\u001b[0;34m(\u001b[0m\u001b[0mnp\u001b[0m\u001b[0;34m.\u001b[0m\u001b[0marange\u001b[0m\u001b[0;34m(\u001b[0m\u001b[0;36m1\u001b[0m\u001b[0;34m,\u001b[0m\u001b[0;36m26\u001b[0m\u001b[0;34m,\u001b[0m\u001b[0;36m1\u001b[0m\u001b[0;34m)\u001b[0m\u001b[0;34m,\u001b[0m \u001b[0mhist2\u001b[0m\u001b[0;34m.\u001b[0m\u001b[0mhistory\u001b[0m\u001b[0;34m[\u001b[0m\u001b[0;34m'val_loss'\u001b[0m\u001b[0;34m]\u001b[0m\u001b[0;34m)\u001b[0m\u001b[0;34m\u001b[0m\u001b[0;34m\u001b[0m\u001b[0m\n\u001b[0m\u001b[1;32m     20\u001b[0m \u001b[0mplt\u001b[0m\u001b[0;34m.\u001b[0m\u001b[0mplot\u001b[0m\u001b[0;34m(\u001b[0m\u001b[0mnp\u001b[0m\u001b[0;34m.\u001b[0m\u001b[0marange\u001b[0m\u001b[0;34m(\u001b[0m\u001b[0;36m1\u001b[0m\u001b[0;34m,\u001b[0m\u001b[0;36m26\u001b[0m\u001b[0;34m,\u001b[0m\u001b[0;36m1\u001b[0m\u001b[0;34m)\u001b[0m\u001b[0;34m,\u001b[0m \u001b[0mhist3_rms\u001b[0m\u001b[0;34m.\u001b[0m\u001b[0mhistory\u001b[0m\u001b[0;34m[\u001b[0m\u001b[0;34m'val_loss'\u001b[0m\u001b[0;34m]\u001b[0m\u001b[0;34m)\u001b[0m\u001b[0;34m\u001b[0m\u001b[0;34m\u001b[0m\u001b[0m\n\u001b[1;32m     21\u001b[0m \u001b[0mplt\u001b[0m\u001b[0;34m.\u001b[0m\u001b[0mlegend\u001b[0m\u001b[0;34m(\u001b[0m\u001b[0;34m[\u001b[0m\u001b[0;34m'RMSProp inicial'\u001b[0m\u001b[0;34m,\u001b[0m \u001b[0;34m'RMSProp doble tamaño filtros'\u001b[0m\u001b[0;34m]\u001b[0m\u001b[0;34m)\u001b[0m\u001b[0;34m\u001b[0m\u001b[0;34m\u001b[0m\u001b[0m\n",
            "\u001b[0;31mNameError\u001b[0m: name 'hist2' is not defined"
          ]
        },
        {
          "output_type": "display_data",
          "data": {
            "image/png": "[encoded data removed]",
            "text/plain": [
              "<Figure size 432x288 with 1 Axes>"
            ]
          },
          "metadata": {
            "tags": []
          }
        }
      ]
    },
    {
      "cell_type": "markdown",
      "metadata": {
        "id": "yt7nXnvHV4ih",
        "colab_type": "text"
      },
      "source": [
        "Como se explicó anteriormente, el filtro tiene mayor visión para una igual cantidad de éstos. Ello no afectó en una mejor del accuracy de la red, llegando a 69%. "
      ]
    },
    {
      "cell_type": "markdown",
      "metadata": {
        "id": "f9Ym0plVCMxF",
        "colab_type": "text"
      },
      "source": [
        " (h) **Comparación Modelo Incial vs Modelo con más convoluciones **"
      ]
    },
    {
      "cell_type": "code",
      "metadata": {
        "id": "9uBVMDpEBdZN",
        "colab_type": "code",
        "outputId": "5d086a01-b41a-4d7e-c48e-7812b903f3a9",
        "colab": {
          "base_uri": "https://localhost:8080/",
          "height": 2566
        }
      },
      "source": [
        "#SGD\n",
        "\n",
        "from keras.models import Sequential\n",
        "from keras.layers import Dense, Dropout, Activation, Flatten, Conv2D, MaxPooling2D\n",
        "from keras.optimizers import SGD , rmsprop\n",
        "  #Modelo inicial\n",
        "\n",
        "model_inicial = Sequential()\n",
        "model_inicial.add(Conv2D(32, (3, 3), padding='same', input_shape=Xnorm_train.shape[1:],activation='relu'))\n",
        "model_inicial.add(MaxPooling2D(pool_size=(2, 2)))\n",
        "model_inicial.add(Conv2D(64, (3, 3), padding='same',activation='relu'))\n",
        "model_inicial.add(MaxPooling2D(pool_size=(2, 2)))\n",
        "model_inicial.add(Flatten())\n",
        "model_inicial.add(Dense(512,activation='relu'))\n",
        "model_inicial.add(Dense(10,activation='softmax'))\n",
        "model_inicial.summary()\n",
        "\n",
        "#**Modelo con dobles convoluciones**\n",
        "model_doble=Sequential()\n",
        "model_doble.add(Conv2D(32, (3,3), padding='same', input_shape=Xnorm_train.shape[1:], activation='relu'))\n",
        "model_doble.add(Conv2D(32, (3,3), padding='same', input_shape=Xnorm_train.shape[1:], activation='relu'))\n",
        "model_doble.add(MaxPooling2D(pool_size=(2,2)))\n",
        "model_doble.add(Conv2D(64, (3,3), padding='same', input_shape=Xnorm_train.shape[1:], activation='relu'))\n",
        "model_doble.add(Conv2D(64, (3,3), padding='same', input_shape=Xnorm_train.shape[1:], activation='relu'))\n",
        "model_doble.add(MaxPooling2D(pool_size=(2,2)))\n",
        "model_doble.add(Flatten())\n",
        "model_doble.add(Dense(512, activation='relu'))\n",
        "model_doble.add(Dense(10,activation='softmax'))\n",
        "model_doble.summary()\n",
        "\n",
        "opt= SGD(lr=1e-4, decay= 1e-6)\n",
        "model_inicial.compile(optimizer=opt, loss='categorical_crossentropy', metrics=['accuracy'])\n",
        "hist_inicial= model_inicial.fit(Xnorm_train, y_train, epochs=25, validation_data=(Xnorm_val, y_val))\n",
        "\n",
        "model_doble.compile(optimizer=opt, loss='categorical_crossentropy', metrics=['accuracy'])\n",
        "hist_doble= model_doble.fit(Xnorm_train, y_train, epochs=25, validation_data=(Xnorm_val, y_val))\n",
        "\n",
        "plt.figure(3)\n",
        "plt.subplot(221)\n",
        "plt.plot(np.arange(1,26,1), hist_inicial.history['val_loss'])\n",
        "plt.plot(np.arange(1,26,1), hist_inicial.history['loss'])\n",
        "plt.legend(['val loss inicial', 'loss inicial'], prop={'size': 7})\n",
        "plt.title('Comparación Losses modelo inicial')\n",
        "\n",
        "\n",
        "plt.subplot(222)\n",
        "plt.plot(np.arange(1,26,1), hist_doble.history['val_loss'])\n",
        "plt.plot(np.arange(1,26,1), hist_doble.history['loss'])\n",
        "plt.legend(['doble conv val loss', 'Doble conv loss'], prop={'size': 7})\n",
        "plt.title('Comparación Losses modelo doble convolución')\n",
        "\n",
        "plt.subplot(223)\n",
        "plt.plot(np.arange(1,26,1), hist_inicial.history['val_loss'])\n",
        "plt.plot(np.arange(1,26,1), hist_doble.history['val_loss'])\n",
        "plt.legend(['SGD inicial val loss', 'SGD doble conv val loss'], prop={'size': 7})\n",
        "plt.title('Comparación val loss entre modelos')\n",
        "\n",
        "plt.subplot(224)\n",
        "plt.plot(np.arange(1,26,1), hist_inicial.history['loss'])\n",
        "plt.plot(np.arange(1,26,1), hist_doble.history['loss'])\n",
        "plt.legend(['SGD inicial loss', 'SGD doble conv loss'], prop={'size': 7})\n",
        "plt.title('Comparación loss entre modelos')\n",
        "\n",
        "plt.subplots_adjust(top=0.99, bottom=0.08, left=0.1, right=0.99, hspace=0.3,\n",
        "                    wspace=0.4)\n",
        "plt.show()"
      ],
      "execution_count": 0,
      "outputs": [
        {
          "output_type": "stream",
          "text": [
            "_________________________________________________________________\n",
            "Layer (type)                 Output Shape              Param #   \n",
            "=================================================================\n",
            "conv2d_41 (Conv2D)           (None, 32, 32, 32)        896       \n",
            "_________________________________________________________________\n",
            "max_pooling2d_39 (MaxPooling (None, 16, 16, 32)        0         \n",
            "_________________________________________________________________\n",
            "conv2d_42 (Conv2D)           (None, 16, 16, 64)        18496     \n",
            "_________________________________________________________________\n",
            "max_pooling2d_40 (MaxPooling (None, 8, 8, 64)          0         \n",
            "_________________________________________________________________\n",
            "flatten_20 (Flatten)         (None, 4096)              0         \n",
            "_________________________________________________________________\n",
            "dense_49 (Dense)             (None, 512)               2097664   \n",
            "_________________________________________________________________\n",
            "dense_50 (Dense)             (None, 10)                5130      \n",
            "=================================================================\n",
            "Total params: 2,122,186\n",
            "Trainable params: 2,122,186\n",
            "Non-trainable params: 0\n",
            "_________________________________________________________________\n",
            "_________________________________________________________________\n",
            "Layer (type)                 Output Shape              Param #   \n",
            "=================================================================\n",
            "conv2d_43 (Conv2D)           (None, 32, 32, 32)        896       \n",
            "_________________________________________________________________\n",
            "conv2d_44 (Conv2D)           (None, 32, 32, 32)        9248      \n",
            "_________________________________________________________________\n",
            "max_pooling2d_41 (MaxPooling (None, 16, 16, 32)        0         \n",
            "_________________________________________________________________\n",
            "conv2d_45 (Conv2D)           (None, 16, 16, 64)        18496     \n",
            "_________________________________________________________________\n",
            "conv2d_46 (Conv2D)           (None, 16, 16, 64)        36928     \n",
            "_________________________________________________________________\n",
            "max_pooling2d_42 (MaxPooling (None, 8, 8, 64)          0         \n",
            "_________________________________________________________________\n",
            "flatten_21 (Flatten)         (None, 4096)              0         \n",
            "_________________________________________________________________\n",
            "dense_51 (Dense)             (None, 512)               2097664   \n",
            "_________________________________________________________________\n",
            "dense_52 (Dense)             (None, 10)                5130      \n",
            "=================================================================\n",
            "Total params: 2,168,362\n",
            "Trainable params: 2,168,362\n",
            "Non-trainable params: 0\n",
            "_________________________________________________________________\n",
            "Train on 40000 samples, validate on 10000 samples\n",
            "Epoch 1/25\n",
            "40000/40000 [==============================] - 8s 199us/step - loss: 2.3048 - acc: 0.1013 - val_loss: 2.2970 - val_acc: 0.1072\n",
            "Epoch 2/25\n",
            "40000/40000 [==============================] - 6s 148us/step - loss: 2.2926 - acc: 0.1169 - val_loss: 2.2886 - val_acc: 0.1312\n",
            "Epoch 3/25\n",
            "40000/40000 [==============================] - 6s 148us/step - loss: 2.2853 - acc: 0.1434 - val_loss: 2.2819 - val_acc: 0.1505\n",
            "Epoch 4/25\n",
            "40000/40000 [==============================] - 6s 148us/step - loss: 2.2788 - acc: 0.1594 - val_loss: 2.2754 - val_acc: 0.1644\n",
            "Epoch 5/25\n",
            "40000/40000 [==============================] - 6s 147us/step - loss: 2.2722 - acc: 0.1729 - val_loss: 2.2684 - val_acc: 0.1757\n",
            "Epoch 6/25\n",
            "40000/40000 [==============================] - 6s 147us/step - loss: 2.2649 - acc: 0.1840 - val_loss: 2.2608 - val_acc: 0.1953\n",
            "Epoch 7/25\n",
            "40000/40000 [==============================] - 6s 150us/step - loss: 2.2569 - acc: 0.1985 - val_loss: 2.2525 - val_acc: 0.2049\n",
            "Epoch 8/25\n",
            "40000/40000 [==============================] - 7s 164us/step - loss: 2.2483 - acc: 0.2086 - val_loss: 2.2435 - val_acc: 0.2158\n",
            "Epoch 9/25\n",
            "40000/40000 [==============================] - 6s 153us/step - loss: 2.2389 - acc: 0.2163 - val_loss: 2.2336 - val_acc: 0.2239\n",
            "Epoch 10/25\n",
            "40000/40000 [==============================] - 6s 147us/step - loss: 2.2287 - acc: 0.2265 - val_loss: 2.2229 - val_acc: 0.2259\n",
            "Epoch 11/25\n",
            "40000/40000 [==============================] - 6s 147us/step - loss: 2.2177 - acc: 0.2322 - val_loss: 2.2115 - val_acc: 0.2264\n",
            "Epoch 12/25\n",
            "40000/40000 [==============================] - 6s 146us/step - loss: 2.2058 - acc: 0.2338 - val_loss: 2.1989 - val_acc: 0.2391\n",
            "Epoch 13/25\n",
            "40000/40000 [==============================] - 6s 148us/step - loss: 2.1928 - acc: 0.2436 - val_loss: 2.1858 - val_acc: 0.2352\n",
            "Epoch 14/25\n",
            "40000/40000 [==============================] - 6s 148us/step - loss: 2.1796 - acc: 0.2452 - val_loss: 2.1724 - val_acc: 0.2458\n",
            "Epoch 15/25\n",
            "40000/40000 [==============================] - 6s 146us/step - loss: 2.1661 - acc: 0.2515 - val_loss: 2.1589 - val_acc: 0.2521\n",
            "Epoch 16/25\n",
            "40000/40000 [==============================] - 6s 147us/step - loss: 2.1524 - acc: 0.2555 - val_loss: 2.1454 - val_acc: 0.2581\n",
            "Epoch 17/25\n",
            "40000/40000 [==============================] - 6s 146us/step - loss: 2.1387 - acc: 0.2617 - val_loss: 2.1319 - val_acc: 0.2647\n",
            "Epoch 18/25\n",
            "40000/40000 [==============================] - 6s 147us/step - loss: 2.1251 - acc: 0.2676 - val_loss: 2.1184 - val_acc: 0.2663\n",
            "Epoch 19/25\n",
            "40000/40000 [==============================] - 6s 148us/step - loss: 2.1113 - acc: 0.2741 - val_loss: 2.1052 - val_acc: 0.2616\n",
            "Epoch 20/25\n",
            "40000/40000 [==============================] - 7s 168us/step - loss: 2.0975 - acc: 0.2783 - val_loss: 2.0915 - val_acc: 0.2766\n",
            "Epoch 21/25\n",
            "40000/40000 [==============================] - 7s 169us/step - loss: 2.0837 - acc: 0.2839 - val_loss: 2.0777 - val_acc: 0.2839\n",
            "Epoch 22/25\n",
            "40000/40000 [==============================] - 6s 159us/step - loss: 2.0696 - acc: 0.2908 - val_loss: 2.0645 - val_acc: 0.2877\n",
            "Epoch 23/25\n",
            "40000/40000 [==============================] - 6s 148us/step - loss: 2.0555 - acc: 0.2964 - val_loss: 2.0500 - val_acc: 0.2937\n",
            "Epoch 24/25\n",
            "40000/40000 [==============================] - 6s 147us/step - loss: 2.0412 - acc: 0.3010 - val_loss: 2.0361 - val_acc: 0.3002\n",
            "Epoch 25/25\n",
            "40000/40000 [==============================] - 6s 146us/step - loss: 2.0267 - acc: 0.3056 - val_loss: 2.0225 - val_acc: 0.3047\n",
            "Train on 40000 samples, validate on 10000 samples\n",
            "Epoch 1/25\n",
            "40000/40000 [==============================] - 9s 231us/step - loss: 2.3020 - acc: 0.1028 - val_loss: 2.3006 - val_acc: 0.1154\n",
            "Epoch 2/25\n",
            "40000/40000 [==============================] - 8s 193us/step - loss: 2.2993 - acc: 0.1186 - val_loss: 2.2981 - val_acc: 0.1206\n",
            "Epoch 3/25\n",
            "40000/40000 [==============================] - 8s 189us/step - loss: 2.2969 - acc: 0.1271 - val_loss: 2.2958 - val_acc: 0.1232\n",
            "Epoch 4/25\n",
            "40000/40000 [==============================] - 8s 188us/step - loss: 2.2945 - acc: 0.1303 - val_loss: 2.2935 - val_acc: 0.1277\n",
            "Epoch 5/25\n",
            "40000/40000 [==============================] - 8s 188us/step - loss: 2.2922 - acc: 0.1337 - val_loss: 2.2912 - val_acc: 0.1310\n",
            "Epoch 6/25\n",
            "40000/40000 [==============================] - 8s 188us/step - loss: 2.2897 - acc: 0.1393 - val_loss: 2.2886 - val_acc: 0.1358\n",
            "Epoch 7/25\n",
            "40000/40000 [==============================] - 8s 197us/step - loss: 2.2869 - acc: 0.1439 - val_loss: 2.2856 - val_acc: 0.1424\n",
            "Epoch 8/25\n",
            "40000/40000 [==============================] - 8s 197us/step - loss: 2.2837 - acc: 0.1481 - val_loss: 2.2822 - val_acc: 0.1507\n",
            "Epoch 9/25\n",
            "40000/40000 [==============================] - 7s 187us/step - loss: 2.2799 - acc: 0.1543 - val_loss: 2.2782 - val_acc: 0.1593\n",
            "Epoch 10/25\n",
            "36096/40000 [==========================>...] - ETA: 0s - loss: 2.2759 - acc: 0.1645"
          ],
          "name": "stdout"
        },
        {
          "output_type": "error",
          "ename": "KeyboardInterrupt",
          "evalue": "ignored",
          "traceback": [
            "\u001b[0;31m---------------------------------------------------------------------------\u001b[0m",
            "\u001b[0;31mKeyboardInterrupt\u001b[0m                         Traceback (most recent call last)",
            "\u001b[0;32m<ipython-input-78-264ff676435b>\u001b[0m in \u001b[0;36m<module>\u001b[0;34m()\u001b[0m\n\u001b[1;32m     33\u001b[0m \u001b[0;34m\u001b[0m\u001b[0m\n\u001b[1;32m     34\u001b[0m \u001b[0mmodel_doble\u001b[0m\u001b[0;34m.\u001b[0m\u001b[0mcompile\u001b[0m\u001b[0;34m(\u001b[0m\u001b[0moptimizer\u001b[0m\u001b[0;34m=\u001b[0m\u001b[0mopt\u001b[0m\u001b[0;34m,\u001b[0m \u001b[0mloss\u001b[0m\u001b[0;34m=\u001b[0m\u001b[0;34m'categorical_crossentropy'\u001b[0m\u001b[0;34m,\u001b[0m \u001b[0mmetrics\u001b[0m\u001b[0;34m=\u001b[0m\u001b[0;34m[\u001b[0m\u001b[0;34m'accuracy'\u001b[0m\u001b[0;34m]\u001b[0m\u001b[0;34m)\u001b[0m\u001b[0;34m\u001b[0m\u001b[0;34m\u001b[0m\u001b[0m\n\u001b[0;32m---> 35\u001b[0;31m \u001b[0mhist_doble\u001b[0m\u001b[0;34m=\u001b[0m \u001b[0mmodel_doble\u001b[0m\u001b[0;34m.\u001b[0m\u001b[0mfit\u001b[0m\u001b[0;34m(\u001b[0m\u001b[0mXnorm_train\u001b[0m\u001b[0;34m,\u001b[0m \u001b[0my_train\u001b[0m\u001b[0;34m,\u001b[0m \u001b[0mepochs\u001b[0m\u001b[0;34m=\u001b[0m\u001b[0;36m25\u001b[0m\u001b[0;34m,\u001b[0m \u001b[0mvalidation_data\u001b[0m\u001b[0;34m=\u001b[0m\u001b[0;34m(\u001b[0m\u001b[0mXnorm_val\u001b[0m\u001b[0;34m,\u001b[0m \u001b[0my_val\u001b[0m\u001b[0;34m)\u001b[0m\u001b[0;34m)\u001b[0m\u001b[0;34m\u001b[0m\u001b[0;34m\u001b[0m\u001b[0m\n\u001b[0m\u001b[1;32m     36\u001b[0m \u001b[0;34m\u001b[0m\u001b[0m\n\u001b[1;32m     37\u001b[0m \u001b[0mplt\u001b[0m\u001b[0;34m.\u001b[0m\u001b[0mfigure\u001b[0m\u001b[0;34m(\u001b[0m\u001b[0;36m3\u001b[0m\u001b[0;34m)\u001b[0m\u001b[0;34m\u001b[0m\u001b[0;34m\u001b[0m\u001b[0m\n",
            "\u001b[0;32m/usr/local/lib/python3.6/dist-packages/keras/engine/training.py\u001b[0m in \u001b[0;36mfit\u001b[0;34m(self, x, y, batch_size, epochs, verbose, callbacks, validation_split, validation_data, shuffle, class_weight, sample_weight, initial_epoch, steps_per_epoch, validation_steps, **kwargs)\u001b[0m\n\u001b[1;32m   1037\u001b[0m                                         \u001b[0minitial_epoch\u001b[0m\u001b[0;34m=\u001b[0m\u001b[0minitial_epoch\u001b[0m\u001b[0;34m,\u001b[0m\u001b[0;34m\u001b[0m\u001b[0;34m\u001b[0m\u001b[0m\n\u001b[1;32m   1038\u001b[0m                                         \u001b[0msteps_per_epoch\u001b[0m\u001b[0;34m=\u001b[0m\u001b[0msteps_per_epoch\u001b[0m\u001b[0;34m,\u001b[0m\u001b[0;34m\u001b[0m\u001b[0;34m\u001b[0m\u001b[0m\n\u001b[0;32m-> 1039\u001b[0;31m                                         validation_steps=validation_steps)\n\u001b[0m\u001b[1;32m   1040\u001b[0m \u001b[0;34m\u001b[0m\u001b[0m\n\u001b[1;32m   1041\u001b[0m     def evaluate(self, x=None, y=None,\n",
            "\u001b[0;32m/usr/local/lib/python3.6/dist-packages/keras/engine/training_arrays.py\u001b[0m in \u001b[0;36mfit_loop\u001b[0;34m(model, f, ins, out_labels, batch_size, epochs, verbose, callbacks, val_f, val_ins, shuffle, callback_metrics, initial_epoch, steps_per_epoch, validation_steps)\u001b[0m\n\u001b[1;32m    197\u001b[0m                     \u001b[0mins_batch\u001b[0m\u001b[0;34m[\u001b[0m\u001b[0mi\u001b[0m\u001b[0;34m]\u001b[0m \u001b[0;34m=\u001b[0m \u001b[0mins_batch\u001b[0m\u001b[0;34m[\u001b[0m\u001b[0mi\u001b[0m\u001b[0;34m]\u001b[0m\u001b[0;34m.\u001b[0m\u001b[0mtoarray\u001b[0m\u001b[0;34m(\u001b[0m\u001b[0;34m)\u001b[0m\u001b[0;34m\u001b[0m\u001b[0;34m\u001b[0m\u001b[0m\n\u001b[1;32m    198\u001b[0m \u001b[0;34m\u001b[0m\u001b[0m\n\u001b[0;32m--> 199\u001b[0;31m                 \u001b[0mouts\u001b[0m \u001b[0;34m=\u001b[0m \u001b[0mf\u001b[0m\u001b[0;34m(\u001b[0m\u001b[0mins_batch\u001b[0m\u001b[0;34m)\u001b[0m\u001b[0;34m\u001b[0m\u001b[0;34m\u001b[0m\u001b[0m\n\u001b[0m\u001b[1;32m    200\u001b[0m                 \u001b[0mouts\u001b[0m \u001b[0;34m=\u001b[0m \u001b[0mto_list\u001b[0m\u001b[0;34m(\u001b[0m\u001b[0mouts\u001b[0m\u001b[0;34m)\u001b[0m\u001b[0;34m\u001b[0m\u001b[0;34m\u001b[0m\u001b[0m\n\u001b[1;32m    201\u001b[0m                 \u001b[0;32mfor\u001b[0m \u001b[0ml\u001b[0m\u001b[0;34m,\u001b[0m \u001b[0mo\u001b[0m \u001b[0;32min\u001b[0m \u001b[0mzip\u001b[0m\u001b[0;34m(\u001b[0m\u001b[0mout_labels\u001b[0m\u001b[0;34m,\u001b[0m \u001b[0mouts\u001b[0m\u001b[0;34m)\u001b[0m\u001b[0;34m:\u001b[0m\u001b[0;34m\u001b[0m\u001b[0;34m\u001b[0m\u001b[0m\n",
            "\u001b[0;32m/usr/local/lib/python3.6/dist-packages/keras/backend/tensorflow_backend.py\u001b[0m in \u001b[0;36m__call__\u001b[0;34m(self, inputs)\u001b[0m\n\u001b[1;32m   2713\u001b[0m                 \u001b[0;32mreturn\u001b[0m \u001b[0mself\u001b[0m\u001b[0;34m.\u001b[0m\u001b[0m_legacy_call\u001b[0m\u001b[0;34m(\u001b[0m\u001b[0minputs\u001b[0m\u001b[0;34m)\u001b[0m\u001b[0;34m\u001b[0m\u001b[0;34m\u001b[0m\u001b[0m\n\u001b[1;32m   2714\u001b[0m \u001b[0;34m\u001b[0m\u001b[0m\n\u001b[0;32m-> 2715\u001b[0;31m             \u001b[0;32mreturn\u001b[0m \u001b[0mself\u001b[0m\u001b[0;34m.\u001b[0m\u001b[0m_call\u001b[0m\u001b[0;34m(\u001b[0m\u001b[0minputs\u001b[0m\u001b[0;34m)\u001b[0m\u001b[0;34m\u001b[0m\u001b[0;34m\u001b[0m\u001b[0m\n\u001b[0m\u001b[1;32m   2716\u001b[0m         \u001b[0;32melse\u001b[0m\u001b[0;34m:\u001b[0m\u001b[0;34m\u001b[0m\u001b[0;34m\u001b[0m\u001b[0m\n\u001b[1;32m   2717\u001b[0m             \u001b[0;32mif\u001b[0m \u001b[0mpy_any\u001b[0m\u001b[0;34m(\u001b[0m\u001b[0mis_tensor\u001b[0m\u001b[0;34m(\u001b[0m\u001b[0mx\u001b[0m\u001b[0;34m)\u001b[0m \u001b[0;32mfor\u001b[0m \u001b[0mx\u001b[0m \u001b[0;32min\u001b[0m \u001b[0minputs\u001b[0m\u001b[0;34m)\u001b[0m\u001b[0;34m:\u001b[0m\u001b[0;34m\u001b[0m\u001b[0;34m\u001b[0m\u001b[0m\n",
            "\u001b[0;32m/usr/local/lib/python3.6/dist-packages/keras/backend/tensorflow_backend.py\u001b[0m in \u001b[0;36m_call\u001b[0;34m(self, inputs)\u001b[0m\n\u001b[1;32m   2634\u001b[0m             \u001b[0;32mraise\u001b[0m \u001b[0mTypeError\u001b[0m\u001b[0;34m(\u001b[0m\u001b[0;34m'`inputs` should be a list or tuple.'\u001b[0m\u001b[0;34m)\u001b[0m\u001b[0;34m\u001b[0m\u001b[0;34m\u001b[0m\u001b[0m\n\u001b[1;32m   2635\u001b[0m \u001b[0;34m\u001b[0m\u001b[0m\n\u001b[0;32m-> 2636\u001b[0;31m         \u001b[0msession\u001b[0m \u001b[0;34m=\u001b[0m \u001b[0mget_session\u001b[0m\u001b[0;34m(\u001b[0m\u001b[0;34m)\u001b[0m\u001b[0;34m\u001b[0m\u001b[0;34m\u001b[0m\u001b[0m\n\u001b[0m\u001b[1;32m   2637\u001b[0m         \u001b[0mfeed_arrays\u001b[0m \u001b[0;34m=\u001b[0m \u001b[0;34m[\u001b[0m\u001b[0;34m]\u001b[0m\u001b[0;34m\u001b[0m\u001b[0;34m\u001b[0m\u001b[0m\n\u001b[1;32m   2638\u001b[0m         \u001b[0marray_vals\u001b[0m \u001b[0;34m=\u001b[0m \u001b[0;34m[\u001b[0m\u001b[0;34m]\u001b[0m\u001b[0;34m\u001b[0m\u001b[0;34m\u001b[0m\u001b[0m\n",
            "\u001b[0;32m/usr/local/lib/python3.6/dist-packages/keras/backend/tensorflow_backend.py\u001b[0m in \u001b[0;36mget_session\u001b[0;34m()\u001b[0m\n\u001b[1;32m    191\u001b[0m             \u001b[0mcandidate_vars\u001b[0m \u001b[0;34m=\u001b[0m \u001b[0;34m[\u001b[0m\u001b[0;34m]\u001b[0m\u001b[0;34m\u001b[0m\u001b[0;34m\u001b[0m\u001b[0m\n\u001b[1;32m    192\u001b[0m             \u001b[0;32mfor\u001b[0m \u001b[0mv\u001b[0m \u001b[0;32min\u001b[0m \u001b[0mvariables\u001b[0m\u001b[0;34m:\u001b[0m\u001b[0;34m\u001b[0m\u001b[0;34m\u001b[0m\u001b[0m\n\u001b[0;32m--> 193\u001b[0;31m                 \u001b[0;32mif\u001b[0m \u001b[0;32mnot\u001b[0m \u001b[0mgetattr\u001b[0m\u001b[0;34m(\u001b[0m\u001b[0mv\u001b[0m\u001b[0;34m,\u001b[0m \u001b[0;34m'_keras_initialized'\u001b[0m\u001b[0;34m,\u001b[0m \u001b[0;32mFalse\u001b[0m\u001b[0;34m)\u001b[0m\u001b[0;34m:\u001b[0m\u001b[0;34m\u001b[0m\u001b[0;34m\u001b[0m\u001b[0m\n\u001b[0m\u001b[1;32m    194\u001b[0m                     \u001b[0mcandidate_vars\u001b[0m\u001b[0;34m.\u001b[0m\u001b[0mappend\u001b[0m\u001b[0;34m(\u001b[0m\u001b[0mv\u001b[0m\u001b[0;34m)\u001b[0m\u001b[0;34m\u001b[0m\u001b[0;34m\u001b[0m\u001b[0m\n\u001b[1;32m    195\u001b[0m             \u001b[0;32mif\u001b[0m \u001b[0mcandidate_vars\u001b[0m\u001b[0;34m:\u001b[0m\u001b[0;34m\u001b[0m\u001b[0;34m\u001b[0m\u001b[0m\n",
            "\u001b[0;31mKeyboardInterrupt\u001b[0m: "
          ]
        }
      ]
    },
    {
      "cell_type": "code",
      "metadata": {
        "id": "FW4T513iHeT4",
        "colab_type": "code",
        "outputId": "c2beecdb-4e8a-4df8-9897-7de1ce5de732",
        "colab": {
          "base_uri": "https://localhost:8080/",
          "height": 3156
        }
      },
      "source": [
        "#RMSProp\n",
        "\n",
        "from keras.models import Sequential\n",
        "from keras.layers import Dense, Dropout, Activation, Flatten, Conv2D, MaxPooling2D\n",
        "from keras.optimizers import SGD , rmsprop\n",
        "  #Modelo inicial\n",
        "\n",
        "model_inicial_rms = Sequential()\n",
        "model_inicial_rms.add(Conv2D(32, (3, 3), padding='same', input_shape=Xnorm_train.shape[1:],activation='relu'))\n",
        "model_inicial_rms.add(MaxPooling2D(pool_size=(2, 2)))\n",
        "model_inicial_rms.add(Conv2D(64, (3, 3), padding='same',activation='relu'))\n",
        "model_inicial_rms.add(MaxPooling2D(pool_size=(2, 2)))\n",
        "model_inicial_rms.add(Flatten())\n",
        "model_inicial_rms.add(Dense(512,activation='relu'))\n",
        "model_inicial_rms.add(Dense(10,activation='softmax'))\n",
        "model_inicial_rms.summary()\n",
        "\n",
        "#**Modelo con dobles convoluciones**\n",
        "model_doble_rms=Sequential()\n",
        "model_doble_rms.add(Conv2D(32, (3,3), padding='same', input_shape=Xnorm_train.shape[1:], activation='relu'))\n",
        "model_doble_rms.add(Conv2D(32, (3,3), padding='same', input_shape=Xnorm_train.shape[1:], activation='relu'))\n",
        "model_doble_rms.add(MaxPooling2D(pool_size=(2,2)))\n",
        "model_doble_rms.add(Conv2D(64, (3,3), padding='same', input_shape=Xnorm_train.shape[1:], activation='relu'))\n",
        "model_doble_rms.add(Conv2D(64, (3,3), padding='same', input_shape=Xnorm_train.shape[1:], activation='relu'))\n",
        "model_doble_rms.add(MaxPooling2D(pool_size=(2,2)))\n",
        "model_doble_rms.add(Dropout(0.25))\n",
        "model_doble_rms.add(Flatten())\n",
        "model_doble_rms.add(Dense(512, activation='relu'))\n",
        "model_doble_rms.add(Dense(10,activation='softmax'))\n",
        "model_doble_rms.summary()\n",
        "\n",
        "opt= rmsprop(lr=1e-4, decay= 1e-6)\n",
        "model_inicial_rms.compile(optimizer=opt, loss='categorical_crossentropy', metrics=['accuracy'])\n",
        "hist_inicial_rms= model_inicial_rms.fit(Xnorm_train, y_train, epochs=25, validation_data=(Xnorm_val, y_val))\n",
        "\n",
        "model_doble_rms.compile(optimizer=opt, loss='categorical_crossentropy', metrics=['accuracy'])\n",
        "hist_doble_rms= model_doble_rms.fit(Xnorm_train, y_train, epochs=25, validation_data=(Xnorm_val, y_val))\n",
        "\n",
        "plt.figure(3)\n",
        "plt.subplot(221)\n",
        "plt.plot(np.arange(1,26,1), hist_inicial_rms.history['val_loss'])\n",
        "plt.plot(np.arange(1,26,1), hist_inicial_rms.history['loss'])\n",
        "plt.legend(['val loss inicial', 'loss inicial'], prop={'size': 7})\n",
        "plt.title('Losses modelo inicial')\n",
        "\n",
        "\n",
        "plt.subplot(222)\n",
        "plt.plot(np.arange(1,26,1), hist_doble_rms.history['val_loss'])\n",
        "plt.plot(np.arange(1,26,1), hist_doble_rms.history['loss'])\n",
        "plt.legend(['doble conv val loss', 'Doble conv loss'], prop={'size': 7})\n",
        "plt.title(' Losses modelo doble convolución')\n",
        "\n",
        "plt.subplot(223)\n",
        "plt.plot(np.arange(1,26,1), hist_inicial_rms.history['val_loss'])\n",
        "plt.plot(np.arange(1,26,1), hist_doble_rms.history['val_loss'])\n",
        "plt.legend(['SGD inicial val loss', 'SGD doble conv val loss'], prop={'size': 7})\n",
        "plt.title('Comparación val loss entre modelos')\n",
        "\n",
        "plt.subplot(224)\n",
        "plt.plot(np.arange(1,26,1), hist_inicial_rms.history['loss'])\n",
        "plt.plot(np.arange(1,26,1), hist_doble_rms.history['loss'])\n",
        "plt.legend(['SGD inicial loss', 'SGD doble conv loss'], prop={'size': 7})\n",
        "plt.title('Comparación loss entre modelos')\n",
        "\n",
        "plt.subplots_adjust(top=0.99, bottom=0.08, left=0.1, right=0.99, hspace=0.3,\n",
        "                    wspace=0.4)\n",
        "plt.show()"
      ],
      "execution_count": 0,
      "outputs": [
        {
          "output_type": "stream",
          "text": [
            "_________________________________________________________________\n",
            "Layer (type)                 Output Shape              Param #   \n",
            "=================================================================\n",
            "conv2d_18 (Conv2D)           (None, 32, 32, 32)        896       \n",
            "_________________________________________________________________\n",
            "max_pooling2d_3 (MaxPooling2 (None, 16, 16, 32)        0         \n",
            "_________________________________________________________________\n",
            "conv2d_19 (Conv2D)           (None, 16, 16, 64)        18496     \n",
            "_________________________________________________________________\n",
            "max_pooling2d_4 (MaxPooling2 (None, 8, 8, 64)          0         \n",
            "_________________________________________________________________\n",
            "flatten_6 (Flatten)          (None, 4096)              0         \n",
            "_________________________________________________________________\n",
            "dense_11 (Dense)             (None, 512)               2097664   \n",
            "_________________________________________________________________\n",
            "dense_12 (Dense)             (None, 10)                5130      \n",
            "=================================================================\n",
            "Total params: 2,122,186\n",
            "Trainable params: 2,122,186\n",
            "Non-trainable params: 0\n",
            "_________________________________________________________________\n",
            "WARNING:tensorflow:From /usr/local/lib/python3.6/dist-packages/keras/backend/tensorflow_backend.py:3445: calling dropout (from tensorflow.python.ops.nn_ops) with keep_prob is deprecated and will be removed in a future version.\n",
            "Instructions for updating:\n",
            "Please use `rate` instead of `keep_prob`. Rate should be set to `rate = 1 - keep_prob`.\n",
            "_________________________________________________________________\n",
            "Layer (type)                 Output Shape              Param #   \n",
            "=================================================================\n",
            "conv2d_20 (Conv2D)           (None, 32, 32, 32)        896       \n",
            "_________________________________________________________________\n",
            "conv2d_21 (Conv2D)           (None, 32, 32, 32)        9248      \n",
            "_________________________________________________________________\n",
            "max_pooling2d_5 (MaxPooling2 (None, 16, 16, 32)        0         \n",
            "_________________________________________________________________\n",
            "conv2d_22 (Conv2D)           (None, 16, 16, 64)        18496     \n",
            "_________________________________________________________________\n",
            "conv2d_23 (Conv2D)           (None, 16, 16, 64)        36928     \n",
            "_________________________________________________________________\n",
            "max_pooling2d_6 (MaxPooling2 (None, 8, 8, 64)          0         \n",
            "_________________________________________________________________\n",
            "dropout_1 (Dropout)          (None, 8, 8, 64)          0         \n",
            "_________________________________________________________________\n",
            "flatten_7 (Flatten)          (None, 4096)              0         \n",
            "_________________________________________________________________\n",
            "dense_13 (Dense)             (None, 512)               2097664   \n",
            "_________________________________________________________________\n",
            "dense_14 (Dense)             (None, 10)                5130      \n",
            "=================================================================\n",
            "Total params: 2,168,362\n",
            "Trainable params: 2,168,362\n",
            "Non-trainable params: 0\n",
            "_________________________________________________________________\n",
            "Train on 40000 samples, validate on 10000 samples\n",
            "Epoch 1/25\n",
            "40000/40000 [==============================] - 7s 169us/step - loss: 1.6987 - acc: 0.3981 - val_loss: 1.4568 - val_acc: 0.4886\n",
            "Epoch 2/25\n",
            "40000/40000 [==============================] - 7s 167us/step - loss: 1.3724 - acc: 0.5181 - val_loss: 1.2853 - val_acc: 0.5505\n",
            "Epoch 3/25\n",
            "40000/40000 [==============================] - 7s 168us/step - loss: 1.2297 - acc: 0.5709 - val_loss: 1.1841 - val_acc: 0.5829\n",
            "Epoch 4/25\n",
            "40000/40000 [==============================] - 7s 165us/step - loss: 1.1360 - acc: 0.6020 - val_loss: 1.1365 - val_acc: 0.5987\n",
            "Epoch 5/25\n",
            "40000/40000 [==============================] - 7s 177us/step - loss: 1.0669 - acc: 0.6296 - val_loss: 1.0645 - val_acc: 0.6311\n",
            "Epoch 6/25\n",
            "40000/40000 [==============================] - 6s 158us/step - loss: 1.0102 - acc: 0.6496 - val_loss: 1.0352 - val_acc: 0.6465\n",
            "Epoch 7/25\n",
            "40000/40000 [==============================] - 6s 158us/step - loss: 0.9595 - acc: 0.6685 - val_loss: 0.9906 - val_acc: 0.6590\n",
            "Epoch 8/25\n",
            "40000/40000 [==============================] - 6s 156us/step - loss: 0.9156 - acc: 0.6830 - val_loss: 0.9817 - val_acc: 0.6651\n",
            "Epoch 9/25\n",
            "40000/40000 [==============================] - 6s 158us/step - loss: 0.8750 - acc: 0.6979 - val_loss: 0.9766 - val_acc: 0.6614\n",
            "Epoch 10/25\n",
            "40000/40000 [==============================] - 6s 157us/step - loss: 0.8387 - acc: 0.7095 - val_loss: 0.9287 - val_acc: 0.6827\n",
            "Epoch 11/25\n",
            "40000/40000 [==============================] - 6s 157us/step - loss: 0.8043 - acc: 0.7242 - val_loss: 0.9256 - val_acc: 0.6847\n",
            "Epoch 12/25\n",
            "40000/40000 [==============================] - 6s 158us/step - loss: 0.7736 - acc: 0.7368 - val_loss: 0.9014 - val_acc: 0.6901\n",
            "Epoch 13/25\n",
            "40000/40000 [==============================] - 6s 157us/step - loss: 0.7413 - acc: 0.7479 - val_loss: 0.8916 - val_acc: 0.6955\n",
            "Epoch 14/25\n",
            "40000/40000 [==============================] - 6s 161us/step - loss: 0.7096 - acc: 0.7577 - val_loss: 0.8933 - val_acc: 0.6988\n",
            "Epoch 15/25\n",
            "40000/40000 [==============================] - 7s 173us/step - loss: 0.6805 - acc: 0.7660 - val_loss: 0.8849 - val_acc: 0.6975\n",
            "Epoch 16/25\n",
            "40000/40000 [==============================] - 6s 161us/step - loss: 0.6521 - acc: 0.7786 - val_loss: 0.9119 - val_acc: 0.6931\n",
            "Epoch 17/25\n",
            "40000/40000 [==============================] - 6s 158us/step - loss: 0.6216 - acc: 0.7899 - val_loss: 0.8802 - val_acc: 0.7038\n",
            "Epoch 18/25\n",
            "40000/40000 [==============================] - 7s 169us/step - loss: 0.5942 - acc: 0.7972 - val_loss: 0.8682 - val_acc: 0.7066\n",
            "Epoch 19/25\n",
            "40000/40000 [==============================] - 6s 158us/step - loss: 0.5652 - acc: 0.8095 - val_loss: 0.8915 - val_acc: 0.7010\n",
            "Epoch 20/25\n",
            "40000/40000 [==============================] - 6s 157us/step - loss: 0.5382 - acc: 0.8196 - val_loss: 0.8656 - val_acc: 0.7149\n",
            "Epoch 21/25\n",
            "40000/40000 [==============================] - 6s 158us/step - loss: 0.5110 - acc: 0.8263 - val_loss: 0.8537 - val_acc: 0.7185\n",
            "Epoch 22/25\n",
            "40000/40000 [==============================] - 6s 157us/step - loss: 0.4811 - acc: 0.8392 - val_loss: 0.9173 - val_acc: 0.6997\n",
            "Epoch 23/25\n",
            "40000/40000 [==============================] - 6s 158us/step - loss: 0.4549 - acc: 0.8496 - val_loss: 0.8826 - val_acc: 0.7104\n",
            "Epoch 24/25\n",
            "40000/40000 [==============================] - 6s 157us/step - loss: 0.4284 - acc: 0.8590 - val_loss: 0.9085 - val_acc: 0.7104\n",
            "Epoch 25/25\n",
            "40000/40000 [==============================] - 6s 158us/step - loss: 0.4020 - acc: 0.8685 - val_loss: 0.8812 - val_acc: 0.7180\n",
            "Train on 40000 samples, validate on 10000 samples\n",
            "Epoch 1/25\n",
            "40000/40000 [==============================] - 9s 217us/step - loss: 1.6449 - acc: 0.4087 - val_loss: 1.4113 - val_acc: 0.4902\n",
            "Epoch 2/25\n",
            "40000/40000 [==============================] - 9s 219us/step - loss: 1.3378 - acc: 0.5223 - val_loss: 1.2207 - val_acc: 0.5682\n",
            "Epoch 3/25\n",
            "40000/40000 [==============================] - 8s 204us/step - loss: 1.1992 - acc: 0.5741 - val_loss: 1.1636 - val_acc: 0.5950\n",
            "Epoch 4/25\n",
            "40000/40000 [==============================] - 8s 203us/step - loss: 1.0990 - acc: 0.6140 - val_loss: 1.0540 - val_acc: 0.6375\n",
            "Epoch 5/25\n",
            "40000/40000 [==============================] - 8s 203us/step - loss: 1.0144 - acc: 0.6451 - val_loss: 0.9865 - val_acc: 0.6601\n",
            "Epoch 6/25\n",
            "40000/40000 [==============================] - 8s 203us/step - loss: 0.9510 - acc: 0.6653 - val_loss: 0.9353 - val_acc: 0.6853\n",
            "Epoch 7/25\n",
            "40000/40000 [==============================] - 8s 202us/step - loss: 0.8923 - acc: 0.6885 - val_loss: 0.9735 - val_acc: 0.6551\n",
            "Epoch 8/25\n",
            "40000/40000 [==============================] - 8s 203us/step - loss: 0.8443 - acc: 0.7061 - val_loss: 0.8660 - val_acc: 0.7030\n",
            "Epoch 9/25\n",
            "40000/40000 [==============================] - 8s 203us/step - loss: 0.7952 - acc: 0.7225 - val_loss: 0.8356 - val_acc: 0.7098\n",
            "Epoch 10/25\n",
            "40000/40000 [==============================] - 8s 205us/step - loss: 0.7522 - acc: 0.7378 - val_loss: 0.8551 - val_acc: 0.7124\n",
            "Epoch 11/25\n",
            "40000/40000 [==============================] - 8s 208us/step - loss: 0.7131 - acc: 0.7508 - val_loss: 0.8843 - val_acc: 0.7017\n",
            "Epoch 12/25\n",
            "40000/40000 [==============================] - 9s 217us/step - loss: 0.6772 - acc: 0.7650 - val_loss: 0.8224 - val_acc: 0.7203\n",
            "Epoch 13/25\n",
            "40000/40000 [==============================] - 8s 204us/step - loss: 0.6406 - acc: 0.7779 - val_loss: 0.7602 - val_acc: 0.7427\n",
            "Epoch 14/25\n",
            "40000/40000 [==============================] - 8s 204us/step - loss: 0.6054 - acc: 0.7895 - val_loss: 0.8113 - val_acc: 0.7263\n",
            "Epoch 15/25\n",
            "40000/40000 [==============================] - 8s 204us/step - loss: 0.5721 - acc: 0.8013 - val_loss: 0.7490 - val_acc: 0.7506\n",
            "Epoch 16/25\n",
            "40000/40000 [==============================] - 8s 204us/step - loss: 0.5404 - acc: 0.8124 - val_loss: 0.7423 - val_acc: 0.7461\n",
            "Epoch 17/25\n",
            "40000/40000 [==============================] - 8s 203us/step - loss: 0.5067 - acc: 0.8248 - val_loss: 0.7398 - val_acc: 0.7537\n",
            "Epoch 18/25\n",
            "40000/40000 [==============================] - 8s 203us/step - loss: 0.4762 - acc: 0.8375 - val_loss: 0.7230 - val_acc: 0.7610\n",
            "Epoch 19/25\n",
            "40000/40000 [==============================] - 8s 203us/step - loss: 0.4475 - acc: 0.8443 - val_loss: 0.7469 - val_acc: 0.7558\n",
            "Epoch 20/25\n",
            "40000/40000 [==============================] - 8s 204us/step - loss: 0.4166 - acc: 0.8558 - val_loss: 0.7585 - val_acc: 0.7538\n",
            "Epoch 21/25\n",
            "40000/40000 [==============================] - 9s 213us/step - loss: 0.3928 - acc: 0.8653 - val_loss: 0.7416 - val_acc: 0.7631\n",
            "Epoch 22/25\n",
            "40000/40000 [==============================] - 9s 226us/step - loss: 0.3654 - acc: 0.8747 - val_loss: 0.7581 - val_acc: 0.7660\n",
            "Epoch 23/25\n",
            "40000/40000 [==============================] - 8s 206us/step - loss: 0.3402 - acc: 0.8827 - val_loss: 0.7789 - val_acc: 0.7559\n",
            "Epoch 24/25\n",
            "40000/40000 [==============================] - 8s 204us/step - loss: 0.3125 - acc: 0.8935 - val_loss: 0.7450 - val_acc: 0.7702\n",
            "Epoch 25/25\n",
            "40000/40000 [==============================] - 8s 204us/step - loss: 0.2890 - acc: 0.9011 - val_loss: 0.7968 - val_acc: 0.7602\n"
          ],
          "name": "stdout"
        },
        {
          "output_type": "display_data",
          "data": {
            "image/png": "[encoded data removed]",
            "text/plain": [
              "<Figure size 432x288 with 4 Axes>"
            ]
          },
          "metadata": {
            "tags": []
          }
        }
      ]
    },
    {
      "cell_type": "markdown",
      "metadata": {
        "id": "0GZVKDSqZ4x2",
        "colab_type": "text"
      },
      "source": [
        "Lo que sucede aquí es bastante agradable a primera vista. Primero que nada, es posible observar que existe un overfiting increible en el caso de RMSProp, llegando a la última epoch con loss=0.0469 y val_loss=1.8328. Lo anterior es debido a que al haber más capas convolucionales, hay más parámetros y, por lo tanto, se estimula más el *overfiting*. Lo anterior no se compensó con una mejor *accuracy*, ya que es posible observar que llegó al 70% con más convoluciones, mientras que el inicial alcanzó el 71%. Por lo tanto, disminuyó el accuracy del modelo. \n",
        "\n",
        "Ahora bien, luego de haber descrito lo anterior (que fue sólamente añadir el código guía del enunciado), se vió que había un *overfiting* demasiado grande. Es por eso que se mantuvo la capa con el doble de convoluciones pero alfinal de éstas, se agregó un **regularizdor** antes de entrar a la capa densa FF. Ello mejoró significativamente los resultados, haciendo que el *overfiting* disminuyera considerablemente en comparación con el párrafo anterior y, lo mejor de todo, fue que el **accuracy** llegó a tener un valor de 76%, lo que implica que agregarle las capas convolucionales junto con el filtro, genera un mejor desempeño del modelo. Esto debido a que, al aumentar la cantidad de parámetros, se tenía más precisión pero con el dropout se logran filtrar (en este el 25%) de las entradas, haciendo un poco más 'suave' los resultados. "
      ]
    },
    {
      "cell_type": "markdown",
      "metadata": {
        "id": "IDnQG7BWFjOA",
        "colab_type": "text"
      },
      "source": [
        "**(i)** Estudio de la dimensionalidad del modelo inicial al reemplazar los poolings por capas convolucionales con stread=2"
      ]
    },
    {
      "cell_type": "code",
      "metadata": {
        "id": "m6To-wIRFk5Z",
        "colab_type": "code",
        "outputId": "4cb75cf1-bef5-497a-d86c-372ef0076aae",
        "colab": {
          "base_uri": "https://localhost:8080/",
          "height": 1681
        }
      },
      "source": [
        "from keras.optimizers import SGD, rmsprop\n",
        "model_ws = Sequential()\n",
        "model_ws.add(Conv2D(32, (3, 3), padding='same', input_shape=Xnorm_train.shape[1:],activation='relu'))\n",
        "model_ws.add(Conv2D(64, (3,3), strides=(2,2), padding= 'same', activation='linear'))\n",
        "model_ws.add(Conv2D(64, (3, 3), padding='same',activation='relu'))\n",
        "model_ws.add(Conv2D(64, (3,3), strides=(2,2), padding= 'same', activation='linear'))\n",
        "model_ws.add(Dropout(0.25))\n",
        "model_ws.add(Flatten())\n",
        "model_ws.add(Dense(512,activation='relu'))\n",
        "model_ws.add(Dense(10,activation='softmax'))\n",
        "model_ws.summary()\n",
        "\n",
        "model_ws.compile(optimizer=rmsprop(lr=1e-4 , decay = 1e-6), loss= 'categorical_crossentropy', metrics=['accuracy'])\n",
        "hist_ws= model_ws.fit(Xnorm_train, y_train, epochs=25, validation_data=(Xnorm_val, y_val))\n",
        "\n",
        "plt.subplot(211)\n",
        "plt.plot(np.arange(1,26,1), hist_ws.history['val_loss'])\n",
        "plt.plot(np.arange(1,26,1), hist_ws.history['loss'])\n",
        "plt.xlabel('Epoch')\n",
        "plt.ylabel('Losses')\n",
        "plt.legend(['Val loss', 'Train loss'])\n",
        "\n",
        "\n",
        "\n",
        "plt.subplot(212)\n",
        "plt.plot(np.arange(1,26,1), hist_ws.history['val_acc'])\n",
        "plt.plot(np.arange(1,26,1), hist_ws.history['acc'])\n",
        "plt.xlabel('Epoch')\n",
        "plt.ylabel('accuracy')\n",
        "plt.legend(['Val acc', 'train Acc'])\n",
        "\n",
        "plt.subplots_adjust(top = 0.99, left = 0.1, right=0.99, bottom= 0.1, hspace=0.4, wspace=0.25)"
      ],
      "execution_count": 0,
      "outputs": [
        {
          "output_type": "stream",
          "text": [
            "_________________________________________________________________\n",
            "Layer (type)                 Output Shape              Param #   \n",
            "=================================================================\n",
            "conv2d_31 (Conv2D)           (None, 32, 32, 32)        896       \n",
            "_________________________________________________________________\n",
            "conv2d_32 (Conv2D)           (None, 16, 16, 64)        18496     \n",
            "_________________________________________________________________\n",
            "conv2d_33 (Conv2D)           (None, 16, 16, 64)        36928     \n",
            "_________________________________________________________________\n",
            "conv2d_34 (Conv2D)           (None, 8, 8, 64)          36928     \n",
            "_________________________________________________________________\n",
            "dropout_3 (Dropout)          (None, 8, 8, 64)          0         \n",
            "_________________________________________________________________\n",
            "flatten_9 (Flatten)          (None, 4096)              0         \n",
            "_________________________________________________________________\n",
            "dense_17 (Dense)             (None, 512)               2097664   \n",
            "_________________________________________________________________\n",
            "dense_18 (Dense)             (None, 10)                5130      \n",
            "=================================================================\n",
            "Total params: 2,196,042\n",
            "Trainable params: 2,196,042\n",
            "Non-trainable params: 0\n",
            "_________________________________________________________________\n",
            "Train on 40000 samples, validate on 10000 samples\n",
            "Epoch 1/25\n",
            "40000/40000 [==============================] - 9s 221us/step - loss: 1.6813 - acc: 0.3959 - val_loss: 1.4366 - val_acc: 0.4893\n",
            "Epoch 2/25\n",
            "40000/40000 [==============================] - 8s 200us/step - loss: 1.3518 - acc: 0.5196 - val_loss: 1.2501 - val_acc: 0.5569\n",
            "Epoch 3/25\n",
            "40000/40000 [==============================] - 9s 216us/step - loss: 1.1962 - acc: 0.5755 - val_loss: 1.1639 - val_acc: 0.5925\n",
            "Epoch 4/25\n",
            "40000/40000 [==============================] - 9s 220us/step - loss: 1.0849 - acc: 0.6160 - val_loss: 1.0888 - val_acc: 0.6162\n",
            "Epoch 5/25\n",
            "40000/40000 [==============================] - 8s 204us/step - loss: 0.9915 - acc: 0.6509 - val_loss: 1.0669 - val_acc: 0.6243\n",
            "Epoch 6/25\n",
            "40000/40000 [==============================] - 8s 200us/step - loss: 0.9082 - acc: 0.6829 - val_loss: 1.0079 - val_acc: 0.6469\n",
            "Epoch 7/25\n",
            "40000/40000 [==============================] - 8s 200us/step - loss: 0.8311 - acc: 0.7111 - val_loss: 0.9675 - val_acc: 0.6653\n",
            "Epoch 8/25\n",
            "40000/40000 [==============================] - 8s 199us/step - loss: 0.7581 - acc: 0.7364 - val_loss: 0.9495 - val_acc: 0.6721\n",
            "Epoch 9/25\n",
            "40000/40000 [==============================] - 8s 200us/step - loss: 0.6900 - acc: 0.7605 - val_loss: 0.9479 - val_acc: 0.6789\n",
            "Epoch 10/25\n",
            "40000/40000 [==============================] - 8s 198us/step - loss: 0.6216 - acc: 0.7854 - val_loss: 0.9613 - val_acc: 0.6812\n",
            "Epoch 11/25\n",
            "40000/40000 [==============================] - 8s 199us/step - loss: 0.5577 - acc: 0.8077 - val_loss: 0.9757 - val_acc: 0.6833\n",
            "Epoch 12/25\n",
            "40000/40000 [==============================] - 8s 208us/step - loss: 0.4909 - acc: 0.8324 - val_loss: 0.9885 - val_acc: 0.6850\n",
            "Epoch 13/25\n",
            "40000/40000 [==============================] - 8s 203us/step - loss: 0.4284 - acc: 0.8550 - val_loss: 1.0071 - val_acc: 0.6870\n",
            "Epoch 14/25\n",
            "40000/40000 [==============================] - 9s 216us/step - loss: 0.3728 - acc: 0.8729 - val_loss: 1.0516 - val_acc: 0.6902\n",
            "Epoch 15/25\n",
            "40000/40000 [==============================] - 8s 203us/step - loss: 0.3238 - acc: 0.8898 - val_loss: 1.1240 - val_acc: 0.6882\n",
            "Epoch 16/25\n",
            "40000/40000 [==============================] - 8s 201us/step - loss: 0.2746 - acc: 0.9069 - val_loss: 1.1387 - val_acc: 0.6909\n",
            "Epoch 17/25\n",
            "40000/40000 [==============================] - 8s 202us/step - loss: 0.2318 - acc: 0.9234 - val_loss: 1.2105 - val_acc: 0.6857\n",
            "Epoch 18/25\n",
            "40000/40000 [==============================] - 8s 203us/step - loss: 0.1931 - acc: 0.9349 - val_loss: 1.3030 - val_acc: 0.6859\n",
            "Epoch 19/25\n",
            "40000/40000 [==============================] - 8s 203us/step - loss: 0.1690 - acc: 0.9415 - val_loss: 1.4291 - val_acc: 0.6816\n",
            "Epoch 20/25\n",
            "40000/40000 [==============================] - 8s 203us/step - loss: 0.1394 - acc: 0.9525 - val_loss: 1.4568 - val_acc: 0.6790\n",
            "Epoch 21/25\n",
            "40000/40000 [==============================] - 8s 201us/step - loss: 0.1246 - acc: 0.9587 - val_loss: 1.5193 - val_acc: 0.6745\n",
            "Epoch 22/25\n",
            "40000/40000 [==============================] - 8s 202us/step - loss: 0.1032 - acc: 0.9643 - val_loss: 1.6069 - val_acc: 0.6840\n",
            "Epoch 23/25\n",
            "40000/40000 [==============================] - 8s 204us/step - loss: 0.0897 - acc: 0.9687 - val_loss: 1.6426 - val_acc: 0.6843\n",
            "Epoch 24/25\n",
            "40000/40000 [==============================] - 9s 218us/step - loss: 0.0825 - acc: 0.9711 - val_loss: 1.7347 - val_acc: 0.6804\n",
            "Epoch 25/25\n",
            "40000/40000 [==============================] - 8s 202us/step - loss: 0.0757 - acc: 0.9748 - val_loss: 1.7379 - val_acc: 0.6850\n"
          ],
          "name": "stdout"
        },
        {
          "output_type": "display_data",
          "data": {
            "image/png": "[encoded data removed]",
            "text/plain": [
              "<Figure size 432x288 with 2 Axes>"
            ]
          },
          "metadata": {
            "tags": []
          }
        }
      ]
    },
    {
      "cell_type": "markdown",
      "metadata": {
        "id": "WYpKIbyHBX6p",
        "colab_type": "text"
      },
      "source": [
        "Observemos que en el primer gráfico, que muestra la relación de las *losses*, se ve que reemplezando el pooling por una capa convolucional de strides = (2,2), hace que haya un *overfiting* muchisimo mayor al inicial. Esto es debido a que hay más parámetros con los que trabaja, por lo tanto era esperable. Por otro lado, lo peor es que el accuracy alcanzó sólo un 65% y se estancó en ese valor rápidamente (antes de las primeras epoch, como se ve en el gráfico).\n",
        "\n",
        "Luego de lo descrito anteriormente, se decidió agregar un filtro antes de entrar a la capa FF, ya que, como se explicó a lo largo de la tarea, al agregar más parámetros, arriesgamos un mayor *overfiting*. Dicho filtro no logró amortiguar tanto la situación ya que el *overfiting* sigue siendo excesivo y, por otro lado, el *accuracy* llegó sólo a 68%, en contraste con el modelo inicial que era un 70%."
      ]
    },
    {
      "cell_type": "markdown",
      "metadata": {
        "id": "q4aOzOWQboot",
        "colab_type": "text"
      },
      "source": [
        ""
      ]
    },
    {
      "cell_type": "markdown",
      "metadata": {
        "id": "h_QwZDLLIEBR",
        "colab_type": "text"
      },
      "source": [
        "**(J)** El siguiente procedimiento podría ayudar a mejorar el modelo ya que al cambiar de forma las imágenes, se tendrán mayores detalles (parámetros) de ellas. Ello hará que se tenga más información aumentando a precisión con la que se modela la red. Por otra parte, al aumentar la cantidad parámetros, podría aumentar el overfiting.\n"
      ]
    },
    {
      "cell_type": "code",
      "metadata": {
        "id": "MKfiAJKlIFdM",
        "colab_type": "code",
        "outputId": "3db87be7-7fe8-42e9-e1f8-5d35cee005d2",
        "colab": {
          "base_uri": "https://localhost:8080/",
          "height": 439
        }
      },
      "source": [
        "from keras.preprocessing.image import ImageDataGenerator\n",
        "model_rot = Sequential()\n",
        "model_rot.add(Conv2D(32, (3, 3), padding='same', input_shape=Xnorm_train.shape[1:],activation='relu'))\n",
        "model_rot.add(MaxPooling2D(pool_size=(2, 2)))\n",
        "model_rot.add(Conv2D(64, (3, 3), padding='same',activation='relu'))\n",
        "model_rot.add(MaxPooling2D(pool_size=(2, 2)))\n",
        "model_rot.add(Flatten())\n",
        "model_rot.add(Dense(512,activation='relu'))\n",
        "model_rot.add(Dense(10,activation='softmax'))\n",
        "model_rot.summary()\n",
        "\n",
        "datagen = ImageDataGenerator(\n",
        "    featurewise_center=False, # set input mean to 0 over the dataset\n",
        "    samplewise_center=False, # set each sample mean to 0\n",
        "    featurewise_std_normalization=False, # divide inputs by std of the dataset\n",
        "    samplewise_std_normalization=False, # divide each input by its std\n",
        "    zca_whitening=False, # apply ZCA whitening\n",
        "    rotation_range=30, # randomly rotate images (degrees, 0 to 180)\n",
        "    width_shift_range=0.1, # randomly shift images horizontally (fraction of width)\n",
        "    height_shift_range=0.1, # randomly shift images vertically (fraction of height)\n",
        "    horizontal_flip=True, # randomly flip images\n",
        "    vertical_flip=False) # randomly flip images\n",
        "datagen.fit(Xnorm_train)\n",
        "\n",
        "model_rot.compile(optimizer=rmsprop(lr=1e-4, decay=1e-6), loss='categorical_crossentropy', metrics=['accuracy'])\n",
        "hist_rot= model_rot.fit_generator(datagen.flow(Xnorm_train, y_train),steps_per_epoch=Xnorm_train.shape[0])"
      ],
      "execution_count": 0,
      "outputs": [
        {
          "output_type": "stream",
          "text": [
            "_________________________________________________________________\n",
            "Layer (type)                 Output Shape              Param #   \n",
            "=================================================================\n",
            "conv2d_13 (Conv2D)           (None, 32, 32, 32)        896       \n",
            "_________________________________________________________________\n",
            "max_pooling2d_13 (MaxPooling (None, 16, 16, 32)        0         \n",
            "_________________________________________________________________\n",
            "conv2d_14 (Conv2D)           (None, 16, 16, 64)        18496     \n",
            "_________________________________________________________________\n",
            "max_pooling2d_14 (MaxPooling (None, 8, 8, 64)          0         \n",
            "_________________________________________________________________\n",
            "flatten_7 (Flatten)          (None, 4096)              0         \n",
            "_________________________________________________________________\n",
            "dense_13 (Dense)             (None, 512)               2097664   \n",
            "_________________________________________________________________\n",
            "dense_14 (Dense)             (None, 10)                5130      \n",
            "=================================================================\n",
            "Total params: 2,122,186\n",
            "Trainable params: 2,122,186\n",
            "Non-trainable params: 0\n",
            "_________________________________________________________________\n",
            "Epoch 1/1\n",
            "40000/40000 [==============================] - 624s 16ms/step - loss: 1.1026 - acc: 0.6121\n"
          ],
          "name": "stdout"
        }
      ]
    },
    {
      "cell_type": "markdown",
      "metadata": {
        "id": "DxQKVdFAtJ72",
        "colab_type": "text"
      },
      "source": [
        "**(K)** En lo que sigue utilizaremos un modelo importado por keras el cual posee pesos pre-entrenados que nos ayudará a estudiar desde otro punto de vista las imágenes de entrenamiento que disponemos.\n"
      ]
    },
    {
      "cell_type": "code",
      "metadata": {
        "id": "hhevbEbeLash",
        "colab_type": "code",
        "outputId": "dfe68e07-697c-4910-eadf-a20b6db08c07",
        "colab": {
          "base_uri": "https://localhost:8080/",
          "height": 6057
        }
      },
      "source": [
        "from keras.applications import VGG16\n",
        "from keras.applications.vgg16 import preprocess_input\n",
        "from keras.layers import Concatenate\n",
        "from sklearn import preprocessing\n",
        "from sklearn.preprocessing import MinMaxScaler\n",
        "\n",
        "X_train_vgg = preprocess_input(x_train.astype('float32'))\n",
        "X_test_vgg = preprocess_input(x_test.astype('float32'))\n",
        "img_dim=X_train_vgg[1:]\n",
        "input_tensor=input(img_dim)\n",
        "modelVGG = VGG16(weights='imagenet', include_top=False, input_shape= (32,32,3)) # LOAD PRETRAINED MODEL \n",
        "mms = MinMaxScaler()\n",
        "mms.fit(X_train_vgg)\n",
        "Xnorm_train_vgg= mms.transform(X_train_vgg)\n",
        "Xnorm_test_vgg = mms.transform(X_test_vgg)\n",
        "features_train = modelVGG.predict(X_train_vgg)\n",
        "features_test = modelVGG.predict(X_test_vgg)\n",
        "\n",
        "#mms.fit(features_train)\n",
        "#Xnorm_train_vgg= mms.transform(features_train)\n",
        "#Xnorm_test_vgg = mms.transform(features_test)\n",
        "modelVGG.summary()"
      ],
      "execution_count": 0,
      "outputs": [
        {
          "output_type": "stream",
          "text": [
            "[[[[ 9.1060997e+01  8.6221001e+01  5.6320000e+01]\n",
            "   [ 6.8060997e+01  6.6221001e+01  2.3320000e+01]\n",
            "   [ 6.8060997e+01  6.3221001e+01  2.4320000e+01]\n",
            "   ...\n",
            "   [ 4.8060997e+01  2.8221001e+01 -2.9680000e+01]\n",
            "   [ 4.9060997e+01  2.7221001e+01 -2.6680000e+01]\n",
            "   [ 4.8060997e+01  2.8221001e+01 -1.9680000e+01]]\n",
            "\n",
            "  [[ 1.1906100e+02  1.1722100e+02  9.3320000e+01]\n",
            "   [ 9.6060997e+01  9.8221001e+01  5.9320000e+01]\n",
            "   [ 1.0006100e+02  1.0022100e+02  6.3320000e+01]\n",
            "   ...\n",
            "   [ 3.1060997e+01  1.6221001e+01 -3.6680000e+01]\n",
            "   [ 3.2060997e+01  1.6221001e+01 -3.5680000e+01]\n",
            "   [ 2.9060997e+01  1.5221001e+01 -2.7680000e+01]]\n",
            "\n",
            "  [[ 1.3506100e+02  1.2722100e+02  1.0932000e+02]\n",
            "   [ 9.8060997e+01  9.3221001e+01  6.1320000e+01]\n",
            "   [ 1.0006100e+02  9.4221001e+01  6.0320000e+01]\n",
            "   ...\n",
            "   [-1.2939003e+01 -2.4778999e+01 -6.4680000e+01]\n",
            "   [-1.1939003e+01 -2.4778999e+01 -6.5680000e+01]\n",
            "   [-2.6939003e+01 -3.8778999e+01 -6.8680000e+01]]\n",
            "\n",
            "  ...\n",
            "\n",
            "  [[ 5.2060997e+01  5.6221001e+01  3.1320000e+01]\n",
            "   [ 5.1060997e+01  5.8221001e+01  3.5320000e+01]\n",
            "   [ 5.2060997e+01  6.7221001e+01  4.6320000e+01]\n",
            "   ...\n",
            "   [-2.9390030e+00 -1.4778999e+01 -4.6680000e+01]\n",
            "   [ 6.0997009e-02 -1.2778999e+01 -4.4680000e+01]\n",
            "   [ 3.0609970e+00 -8.7789993e+00 -4.1680000e+01]]\n",
            "\n",
            "  [[ 3.9060997e+01  3.1221001e+01  7.3199997e+00]\n",
            "   [ 4.3060997e+01  3.8221001e+01  1.6320000e+01]\n",
            "   [ 5.1060997e+01  5.2221001e+01  3.2320000e+01]\n",
            "   ...\n",
            "   [ 2.5060997e+01  2.5221001e+01  6.3199997e+00]\n",
            "   [ 2.2060997e+01  2.4221001e+01  5.3199997e+00]\n",
            "   [ 1.9060997e+01  2.2221001e+01  4.3199997e+00]]\n",
            "\n",
            "  [[ 4.0060997e+01  2.6221001e+01 -6.8000031e-01]\n",
            "   [ 3.6060997e+01  2.3221001e+01 -3.6800003e+00]\n",
            "   [ 3.7060997e+01  2.5221001e+01 -1.6800003e+00]\n",
            "   ...\n",
            "   [ 5.9060997e+01  8.1221001e+01  7.9320000e+01]\n",
            "   [ 5.8060997e+01  8.2221001e+01  8.0320000e+01]\n",
            "   [ 5.2060997e+01  7.7221001e+01  7.5320000e+01]]]\n",
            "\n",
            "\n",
            " [[[ 2.0609970e+00  5.2210007e+00  5.3199997e+00]\n",
            "   [ 5.0609970e+00  8.2210007e+00  8.3199997e+00]\n",
            "   [ 9.0609970e+00  1.2221001e+01  1.2320000e+01]\n",
            "   ...\n",
            "   [-5.7939003e+01 -5.1778999e+01 -2.5680000e+01]\n",
            "   [-5.8939003e+01 -5.3778999e+01 -4.1680000e+01]\n",
            "   [-3.9939003e+01 -3.6778999e+01 -3.1680000e+01]]\n",
            "\n",
            "  [[ 2.0609970e+00  5.2210007e+00  5.3199997e+00]\n",
            "   [ 5.0609970e+00  7.2210007e+00  7.3199997e+00]\n",
            "   [ 8.0609970e+00  1.1221001e+01  1.1320000e+01]\n",
            "   ...\n",
            "   [-5.5939003e+01 -4.8778999e+01 -2.1680000e+01]\n",
            "   [-1.7939003e+01 -1.0778999e+01  6.3199997e+00]\n",
            "   [-1.9939003e+01 -1.4778999e+01 -6.8000031e-01]]\n",
            "\n",
            "  [[ 4.0609970e+00  7.2210007e+00  7.3199997e+00]\n",
            "   [ 6.0609970e+00  9.2210007e+00  9.3199997e+00]\n",
            "   [ 9.0609970e+00  1.2221001e+01  1.2320000e+01]\n",
            "   ...\n",
            "   [-1.7939003e+01 -1.2778999e+01  9.3199997e+00]\n",
            "   [-7.9390030e+00 -2.7789993e+00  1.4320000e+01]\n",
            "   [-2.3939003e+01 -1.7778999e+01  3.1999969e-01]]\n",
            "\n",
            "  ...\n",
            "\n",
            "  [[-1.3939003e+01 -1.7789993e+00  1.5320000e+01]\n",
            "   [-1.1939003e+01 -7.7899933e-01  1.6320000e+01]\n",
            "   [-8.9390030e+00  2.2210007e+00  1.9320000e+01]\n",
            "   ...\n",
            "   [ 1.3060997e+01  2.4221001e+01  4.5320000e+01]\n",
            "   [ 1.0060997e+01  2.1221001e+01  4.3320000e+01]\n",
            "   [ 5.0609970e+00  1.7221001e+01  3.9320000e+01]]\n",
            "\n",
            "  [[-1.1939003e+01 -7.7899933e-01  1.7320000e+01]\n",
            "   [-1.1939003e+01 -7.7899933e-01  1.6320000e+01]\n",
            "   [-1.3939003e+01 -2.7789993e+00  1.4320000e+01]\n",
            "   ...\n",
            "   [ 2.1060997e+01  3.2221001e+01  5.3320000e+01]\n",
            "   [ 1.9060997e+01  3.0221001e+01  5.1320000e+01]\n",
            "   [ 1.7060997e+01  2.9221001e+01  5.0320000e+01]]\n",
            "\n",
            "  [[-4.9390030e+00  6.2210007e+00  2.3320000e+01]\n",
            "   [-6.9390030e+00  4.2210007e+00  2.1320000e+01]\n",
            "   [-1.1939003e+01 -7.7899933e-01  1.6320000e+01]\n",
            "   ...\n",
            "   [ 2.1060997e+01  3.2221001e+01  5.3320000e+01]\n",
            "   [ 2.0060997e+01  3.0221001e+01  5.1320000e+01]\n",
            "   [ 9.0609970e+00  2.1221001e+01  4.2320000e+01]]]\n",
            "\n",
            "\n",
            " [[[ 8.3060997e+01  5.9221001e+01  5.9320000e+01]\n",
            "   [ 7.8060997e+01  5.4221001e+01  5.7320000e+01]\n",
            "   [ 7.3060997e+01  4.8221001e+01  5.2320000e+01]\n",
            "   ...\n",
            "   [ 9.3060997e+01  6.7221001e+01  7.2320000e+01]\n",
            "   [ 9.3060997e+01  7.0221001e+01  7.5320000e+01]\n",
            "   [ 9.4060997e+01  7.1221001e+01  7.6320000e+01]]\n",
            "\n",
            "  [[ 7.8060997e+01  5.7221001e+01  5.6320000e+01]\n",
            "   [ 7.3060997e+01  5.1221001e+01  5.3320000e+01]\n",
            "   [ 6.6060997e+01  4.3221001e+01  4.8320000e+01]\n",
            "   ...\n",
            "   [ 9.0060997e+01  6.4221001e+01  6.9320000e+01]\n",
            "   [ 9.1060997e+01  6.7221001e+01  7.2320000e+01]\n",
            "   [ 9.2060997e+01  6.9221001e+01  7.4320000e+01]]\n",
            "\n",
            "  [[ 7.7060997e+01  5.7221001e+01  5.5320000e+01]\n",
            "   [ 7.3060997e+01  5.2221001e+01  5.4320000e+01]\n",
            "   [ 6.6060997e+01  4.3221001e+01  4.8320000e+01]\n",
            "   ...\n",
            "   [ 8.8060997e+01  6.1221001e+01  6.6320000e+01]\n",
            "   [ 8.9060997e+01  6.5221001e+01  7.0320000e+01]\n",
            "   [ 9.0060997e+01  6.7221001e+01  7.2320000e+01]]\n",
            "\n",
            "  ...\n",
            "\n",
            "  [[-5.9390030e+00  9.2210007e+00  2.2320000e+01]\n",
            "   [-1.9390030e+00  9.2210007e+00  2.4320000e+01]\n",
            "   [-1.9390030e+00  4.2210007e+00  2.2320000e+01]\n",
            "   ...\n",
            "   [ 2.4060997e+01  3.5221001e+01  5.1320000e+01]\n",
            "   [ 2.2060997e+01  3.0221001e+01  4.9320000e+01]\n",
            "   [ 1.4060997e+01  2.2221001e+01  4.1320000e+01]]\n",
            "\n",
            "  [[ 1.3060997e+01  2.6221001e+01  4.7320000e+01]\n",
            "   [ 1.3060997e+01  2.3221001e+01  4.6320000e+01]\n",
            "   [ 1.1060997e+01  1.8221001e+01  4.3320000e+01]\n",
            "   ...\n",
            "   [ 3.6060997e+01  4.7221001e+01  6.7320000e+01]\n",
            "   [ 3.8060997e+01  4.5221001e+01  7.3320000e+01]\n",
            "   [ 3.7060997e+01  4.4221001e+01  7.3320000e+01]]\n",
            "\n",
            "  [[ 1.8060997e+01  2.8221001e+01  4.9320000e+01]\n",
            "   [ 1.7060997e+01  2.7221001e+01  5.0320000e+01]\n",
            "   [ 1.4060997e+01  2.4221001e+01  4.9320000e+01]\n",
            "   ...\n",
            "   [ 3.4060997e+01  4.4221001e+01  6.5320000e+01]\n",
            "   [ 3.6060997e+01  4.3221001e+01  7.0320000e+01]\n",
            "   [ 3.7060997e+01  4.3221001e+01  7.1320000e+01]]]\n",
            "\n",
            "\n",
            " ...\n",
            "\n",
            "\n",
            " [[[ 1.1806100e+02  1.0322100e+02  8.9320000e+01]\n",
            "   [ 1.0206100e+02  8.4221001e+01  6.7320000e+01]\n",
            "   [ 9.3060997e+01  7.3221001e+01  6.1320000e+01]\n",
            "   ...\n",
            "   [ 1.0006100e+02  8.7221001e+01  7.2320000e+01]\n",
            "   [ 9.8060997e+01  8.4221001e+01  7.1320000e+01]\n",
            "   [ 1.1206100e+02  9.8221001e+01  8.7320000e+01]]\n",
            "\n",
            "  [[ 1.1106100e+02  9.6221001e+01  8.2320000e+01]\n",
            "   [ 9.2060997e+01  7.3221001e+01  5.7320000e+01]\n",
            "   [ 8.7060997e+01  6.7221001e+01  5.5320000e+01]\n",
            "   ...\n",
            "   [ 9.2060997e+01  7.7221001e+01  5.8320000e+01]\n",
            "   [ 9.0060997e+01  7.4221001e+01  5.7320000e+01]\n",
            "   [ 1.0706100e+02  9.1221001e+01  7.5320000e+01]]\n",
            "\n",
            "  [[ 1.1206100e+02  9.6221001e+01  8.2320000e+01]\n",
            "   [ 9.3060997e+01  7.4221001e+01  5.8320000e+01]\n",
            "   [ 8.2060997e+01  6.2221001e+01  4.9320000e+01]\n",
            "   ...\n",
            "   [ 9.3060997e+01  7.5221001e+01  5.9320000e+01]\n",
            "   [ 9.1060997e+01  7.2221001e+01  5.9320000e+01]\n",
            "   [ 1.0806100e+02  9.0221001e+01  7.8320000e+01]]\n",
            "\n",
            "  ...\n",
            "\n",
            "  [[ 3.4060997e+01  4.7221001e+01  4.6320000e+01]\n",
            "   [-3.0939003e+01  2.2100067e-01  7.3199997e+00]\n",
            "   [-3.1939003e+01  1.2210007e+00  9.3199997e+00]\n",
            "   ...\n",
            "   [-3.1939003e+01  1.1221001e+01  7.3199997e+00]\n",
            "   [-4.6939003e+01 -2.7789993e+00 -8.6800003e+00]\n",
            "   [ 4.0609970e+00  3.2221001e+01  2.5320000e+01]]\n",
            "\n",
            "  [[ 2.5060997e+01  4.4221001e+01  3.9320000e+01]\n",
            "   [-4.0939003e+01 -4.7789993e+00 -3.6800003e+00]\n",
            "   [-4.6939003e+01 -1.1778999e+01 -9.6800003e+00]\n",
            "   ...\n",
            "   [-4.0939003e+01  2.2100067e-01 -4.6800003e+00]\n",
            "   [-4.6939003e+01 -1.7789993e+00 -8.6800003e+00]\n",
            "   [ 9.0609970e+00  3.9221001e+01  3.0320000e+01]]\n",
            "\n",
            "  [[ 3.6060997e+01  6.0221001e+01  5.0320000e+01]\n",
            "   [-1.9939003e+01  1.8221001e+01  8.3199997e+00]\n",
            "   [-1.0939003e+01  2.1221001e+01  1.4320000e+01]\n",
            "   ...\n",
            "   [-1.4939003e+01  2.0221001e+01  1.3320000e+01]\n",
            "   [-2.3939003e+01  1.8221001e+01  8.3199997e+00]\n",
            "   [ 2.1060997e+01  5.0221001e+01  3.8320000e+01]]]\n",
            "\n",
            "\n",
            " [[[ 1.1206100e+02  7.3221001e+01  3.1320000e+01]\n",
            "   [ 1.0906100e+02  7.1221001e+01  2.9320000e+01]\n",
            "   [ 1.1106100e+02  7.2221001e+01  3.1320000e+01]\n",
            "   ...\n",
            "   [ 1.2106100e+02  8.4221001e+01  3.4320000e+01]\n",
            "   [ 1.2006100e+02  8.2221001e+01  3.3320000e+01]\n",
            "   [ 1.2206100e+02  8.4221001e+01  3.4320000e+01]]\n",
            "\n",
            "  [[ 1.1006100e+02  7.2221001e+01  3.0320000e+01]\n",
            "   [ 1.0706100e+02  6.9221001e+01  2.9320000e+01]\n",
            "   [ 1.0906100e+02  7.1221001e+01  3.0320000e+01]\n",
            "   ...\n",
            "   [ 1.1906100e+02  8.2221001e+01  3.3320000e+01]\n",
            "   [ 1.1806100e+02  8.1221001e+01  3.2320000e+01]\n",
            "   [ 1.2106100e+02  8.3221001e+01  3.4320000e+01]]\n",
            "\n",
            "  [[ 1.1006100e+02  7.2221001e+01  3.0320000e+01]\n",
            "   [ 1.0806100e+02  7.0221001e+01  2.9320000e+01]\n",
            "   [ 1.0906100e+02  7.1221001e+01  3.0320000e+01]\n",
            "   ...\n",
            "   [ 1.2006100e+02  8.3221001e+01  3.4320000e+01]\n",
            "   [ 1.1906100e+02  8.2221001e+01  3.3320000e+01]\n",
            "   [ 1.2306100e+02  8.5221001e+01  3.5320000e+01]]\n",
            "\n",
            "  ...\n",
            "\n",
            "  [[-7.9390030e+00  6.2210007e+00  2.5320000e+01]\n",
            "   [-9.9390030e+00  2.2210007e+00  2.0320000e+01]\n",
            "   [-8.9390030e+00  2.2210007e+00  1.9320000e+01]\n",
            "   ...\n",
            "   [ 1.5060997e+01  2.6221001e+01  3.4320000e+01]\n",
            "   [ 8.0609970e+00  1.9221001e+01  2.7320000e+01]\n",
            "   [ 1.2060997e+01  2.3221001e+01  3.1320000e+01]]\n",
            "\n",
            "  [[-1.2939003e+01  6.2210007e+00  2.5320000e+01]\n",
            "   [-8.9390030e+00  1.0221001e+01  2.8320000e+01]\n",
            "   [-1.1939003e+01  8.2210007e+00  2.6320000e+01]\n",
            "   ...\n",
            "   [ 1.0060997e+01  2.5221001e+01  3.7320000e+01]\n",
            "   [-9.3900299e-01  1.3221001e+01  2.6320000e+01]\n",
            "   [ 9.0609970e+00  2.3221001e+01  3.6320000e+01]]\n",
            "\n",
            "  [[-2.9939003e+01 -2.7789993e+00  2.1320000e+01]\n",
            "   [-2.0939003e+01  5.2210007e+00  2.8320000e+01]\n",
            "   [-1.9939003e+01  6.2210007e+00  3.0320000e+01]\n",
            "   ...\n",
            "   [-2.0939003e+01 -7.7899933e-01  1.6320000e+01]\n",
            "   [-1.2939003e+01  7.2210007e+00  2.4320000e+01]\n",
            "   [-7.9390030e+00  1.2221001e+01  2.9320000e+01]]]\n",
            "\n",
            "\n",
            " [[[ 1.4406100e+02  1.3122101e+02  1.2432000e+02]\n",
            "   [ 1.4706100e+02  1.3422101e+02  1.2732000e+02]\n",
            "   [ 1.4106100e+02  1.2822101e+02  1.2132000e+02]\n",
            "   ...\n",
            "   [ 1.3906100e+02  1.2622100e+02  1.1932000e+02]\n",
            "   [ 1.4106100e+02  1.2822101e+02  1.2132000e+02]\n",
            "   [ 1.4506100e+02  1.3222101e+02  1.2532000e+02]]\n",
            "\n",
            "  [[ 1.4406100e+02  1.3122101e+02  1.2432000e+02]\n",
            "   [ 1.4506100e+02  1.3222101e+02  1.2532000e+02]\n",
            "   [ 1.4406100e+02  1.3122101e+02  1.2432000e+02]\n",
            "   ...\n",
            "   [ 1.4106100e+02  1.2822101e+02  1.2132000e+02]\n",
            "   [ 1.3506100e+02  1.2222100e+02  1.1532000e+02]\n",
            "   [ 1.3906100e+02  1.2622100e+02  1.1932000e+02]]\n",
            "\n",
            "  [[ 1.4006100e+02  1.2722100e+02  1.2032000e+02]\n",
            "   [ 1.4506100e+02  1.3222101e+02  1.2532000e+02]\n",
            "   [ 1.4506100e+02  1.3222101e+02  1.2532000e+02]\n",
            "   ...\n",
            "   [ 1.3806100e+02  1.2522100e+02  1.1832000e+02]\n",
            "   [ 1.3606100e+02  1.2322100e+02  1.1632000e+02]\n",
            "   [ 1.3306100e+02  1.2022100e+02  1.1332000e+02]]\n",
            "\n",
            "  ...\n",
            "\n",
            "  [[-3.3939003e+01 -4.6778999e+01 -5.3680000e+01]\n",
            "   [-3.9939003e+01 -5.2778999e+01 -5.9680000e+01]\n",
            "   [-2.4939003e+01 -3.7778999e+01 -4.4680000e+01]\n",
            "   ...\n",
            "   [ 4.8060997e+01  3.5221001e+01  2.8320000e+01]\n",
            "   [ 6.0609970e+00 -6.7789993e+00 -1.3680000e+01]\n",
            "   [-1.7939003e+01 -3.0778999e+01 -3.7680000e+01]]\n",
            "\n",
            "  [[-2.6939003e+01 -3.9778999e+01 -4.6680000e+01]\n",
            "   [-1.6939003e+01 -2.9778999e+01 -3.6680000e+01]\n",
            "   [ 1.9060997e+01  6.2210007e+00 -6.8000031e-01]\n",
            "   ...\n",
            "   [ 1.2206100e+02  1.0922100e+02  1.0232000e+02]\n",
            "   [ 9.3060997e+01  8.0221001e+01  7.3320000e+01]\n",
            "   [ 6.0060997e+01  4.7221001e+01  4.0320000e+01]]\n",
            "\n",
            "  [[ 9.6060997e+01  8.3221001e+01  7.6320000e+01]\n",
            "   [ 1.0706100e+02  9.4221001e+01  8.7320000e+01]\n",
            "   [ 1.2306100e+02  1.1022100e+02  1.0332000e+02]\n",
            "   ...\n",
            "   [ 1.2506100e+02  1.1222100e+02  1.0532000e+02]\n",
            "   [ 1.1606100e+02  1.0322100e+02  9.6320000e+01]\n",
            "   [ 9.3060997e+01  8.0221001e+01  7.3320000e+01]]]]\n"
          ],
          "name": "stdout"
        },
        {
          "output_type": "error",
          "ename": "ValueError",
          "evalue": "ignored",
          "traceback": [
            "\u001b[0;31m---------------------------------------------------------------------------\u001b[0m",
            "\u001b[0;31mValueError\u001b[0m                                Traceback (most recent call last)",
            "\u001b[0;32m<ipython-input-67-efb1ddf40ea8>\u001b[0m in \u001b[0;36m<module>\u001b[0;34m()\u001b[0m\n\u001b[1;32m     11\u001b[0m \u001b[0mmodelVGG\u001b[0m \u001b[0;34m=\u001b[0m \u001b[0mVGG16\u001b[0m\u001b[0;34m(\u001b[0m\u001b[0mweights\u001b[0m\u001b[0;34m=\u001b[0m\u001b[0;34m'imagenet'\u001b[0m\u001b[0;34m,\u001b[0m \u001b[0minclude_top\u001b[0m\u001b[0;34m=\u001b[0m\u001b[0;32mFalse\u001b[0m\u001b[0;34m,\u001b[0m \u001b[0minput_shape\u001b[0m\u001b[0;34m=\u001b[0m \u001b[0;34m(\u001b[0m\u001b[0;36m32\u001b[0m\u001b[0;34m,\u001b[0m\u001b[0;36m32\u001b[0m\u001b[0;34m,\u001b[0m\u001b[0;36m3\u001b[0m\u001b[0;34m)\u001b[0m\u001b[0;34m)\u001b[0m \u001b[0;31m# LOAD PRETRAINED MODEL\u001b[0m\u001b[0;34m\u001b[0m\u001b[0;34m\u001b[0m\u001b[0m\n\u001b[1;32m     12\u001b[0m \u001b[0mmms\u001b[0m \u001b[0;34m=\u001b[0m \u001b[0mMinMaxScaler\u001b[0m\u001b[0;34m(\u001b[0m\u001b[0;34m)\u001b[0m\u001b[0;34m\u001b[0m\u001b[0;34m\u001b[0m\u001b[0m\n\u001b[0;32m---> 13\u001b[0;31m \u001b[0mmms\u001b[0m\u001b[0;34m.\u001b[0m\u001b[0mfit\u001b[0m\u001b[0;34m(\u001b[0m\u001b[0mX_train_vgg\u001b[0m\u001b[0;34m)\u001b[0m\u001b[0;34m\u001b[0m\u001b[0;34m\u001b[0m\u001b[0m\n\u001b[0m\u001b[1;32m     14\u001b[0m \u001b[0mXnorm_train_vgg\u001b[0m\u001b[0;34m=\u001b[0m \u001b[0mmms\u001b[0m\u001b[0;34m.\u001b[0m\u001b[0mtransform\u001b[0m\u001b[0;34m(\u001b[0m\u001b[0mX_train_vgg\u001b[0m\u001b[0;34m)\u001b[0m\u001b[0;34m\u001b[0m\u001b[0;34m\u001b[0m\u001b[0m\n\u001b[1;32m     15\u001b[0m \u001b[0mXnorm_test_vgg\u001b[0m \u001b[0;34m=\u001b[0m \u001b[0mmms\u001b[0m\u001b[0;34m.\u001b[0m\u001b[0mtransform\u001b[0m\u001b[0;34m(\u001b[0m\u001b[0mX_test_vgg\u001b[0m\u001b[0;34m)\u001b[0m\u001b[0;34m\u001b[0m\u001b[0;34m\u001b[0m\u001b[0m\n",
            "\u001b[0;32m/usr/local/lib/python3.6/dist-packages/sklearn/preprocessing/data.py\u001b[0m in \u001b[0;36mfit\u001b[0;34m(self, X, y)\u001b[0m\n\u001b[1;32m    332\u001b[0m         \u001b[0;31m# Reset internal state before fitting\u001b[0m\u001b[0;34m\u001b[0m\u001b[0;34m\u001b[0m\u001b[0;34m\u001b[0m\u001b[0m\n\u001b[1;32m    333\u001b[0m         \u001b[0mself\u001b[0m\u001b[0;34m.\u001b[0m\u001b[0m_reset\u001b[0m\u001b[0;34m(\u001b[0m\u001b[0;34m)\u001b[0m\u001b[0;34m\u001b[0m\u001b[0;34m\u001b[0m\u001b[0m\n\u001b[0;32m--> 334\u001b[0;31m         \u001b[0;32mreturn\u001b[0m \u001b[0mself\u001b[0m\u001b[0;34m.\u001b[0m\u001b[0mpartial_fit\u001b[0m\u001b[0;34m(\u001b[0m\u001b[0mX\u001b[0m\u001b[0;34m,\u001b[0m \u001b[0my\u001b[0m\u001b[0;34m)\u001b[0m\u001b[0;34m\u001b[0m\u001b[0;34m\u001b[0m\u001b[0m\n\u001b[0m\u001b[1;32m    335\u001b[0m \u001b[0;34m\u001b[0m\u001b[0m\n\u001b[1;32m    336\u001b[0m     \u001b[0;32mdef\u001b[0m \u001b[0mpartial_fit\u001b[0m\u001b[0;34m(\u001b[0m\u001b[0mself\u001b[0m\u001b[0;34m,\u001b[0m \u001b[0mX\u001b[0m\u001b[0;34m,\u001b[0m \u001b[0my\u001b[0m\u001b[0;34m=\u001b[0m\u001b[0;32mNone\u001b[0m\u001b[0;34m)\u001b[0m\u001b[0;34m:\u001b[0m\u001b[0;34m\u001b[0m\u001b[0;34m\u001b[0m\u001b[0m\n",
            "\u001b[0;32m/usr/local/lib/python3.6/dist-packages/sklearn/preprocessing/data.py\u001b[0m in \u001b[0;36mpartial_fit\u001b[0;34m(self, X, y)\u001b[0m\n\u001b[1;32m    360\u001b[0m         X = check_array(X, copy=self.copy, warn_on_dtype=True,\n\u001b[1;32m    361\u001b[0m                         \u001b[0mestimator\u001b[0m\u001b[0;34m=\u001b[0m\u001b[0mself\u001b[0m\u001b[0;34m,\u001b[0m \u001b[0mdtype\u001b[0m\u001b[0;34m=\u001b[0m\u001b[0mFLOAT_DTYPES\u001b[0m\u001b[0;34m,\u001b[0m\u001b[0;34m\u001b[0m\u001b[0;34m\u001b[0m\u001b[0m\n\u001b[0;32m--> 362\u001b[0;31m                         force_all_finite=\"allow-nan\")\n\u001b[0m\u001b[1;32m    363\u001b[0m \u001b[0;34m\u001b[0m\u001b[0m\n\u001b[1;32m    364\u001b[0m         \u001b[0mdata_min\u001b[0m \u001b[0;34m=\u001b[0m \u001b[0mnp\u001b[0m\u001b[0;34m.\u001b[0m\u001b[0mnanmin\u001b[0m\u001b[0;34m(\u001b[0m\u001b[0mX\u001b[0m\u001b[0;34m,\u001b[0m \u001b[0maxis\u001b[0m\u001b[0;34m=\u001b[0m\u001b[0;36m0\u001b[0m\u001b[0;34m)\u001b[0m\u001b[0;34m\u001b[0m\u001b[0;34m\u001b[0m\u001b[0m\n",
            "\u001b[0;32m/usr/local/lib/python3.6/dist-packages/sklearn/utils/validation.py\u001b[0m in \u001b[0;36mcheck_array\u001b[0;34m(array, accept_sparse, accept_large_sparse, dtype, order, copy, force_all_finite, ensure_2d, allow_nd, ensure_min_samples, ensure_min_features, warn_on_dtype, estimator)\u001b[0m\n\u001b[1;32m    568\u001b[0m         \u001b[0;32mif\u001b[0m \u001b[0;32mnot\u001b[0m \u001b[0mallow_nd\u001b[0m \u001b[0;32mand\u001b[0m \u001b[0marray\u001b[0m\u001b[0;34m.\u001b[0m\u001b[0mndim\u001b[0m \u001b[0;34m>=\u001b[0m \u001b[0;36m3\u001b[0m\u001b[0;34m:\u001b[0m\u001b[0;34m\u001b[0m\u001b[0;34m\u001b[0m\u001b[0m\n\u001b[1;32m    569\u001b[0m             raise ValueError(\"Found array with dim %d. %s expected <= 2.\"\n\u001b[0;32m--> 570\u001b[0;31m                              % (array.ndim, estimator_name))\n\u001b[0m\u001b[1;32m    571\u001b[0m         \u001b[0;32mif\u001b[0m \u001b[0mforce_all_finite\u001b[0m\u001b[0;34m:\u001b[0m\u001b[0;34m\u001b[0m\u001b[0;34m\u001b[0m\u001b[0m\n\u001b[1;32m    572\u001b[0m             _assert_all_finite(array,\n",
            "\u001b[0;31mValueError\u001b[0m: Found array with dim 4. MinMaxScaler expected <= 2."
          ]
        }
      ]
    },
    {
      "cell_type": "code",
      "metadata": {
        "id": "KVYdRRr95Ae1",
        "colab_type": "code",
        "outputId": "5673b2c8-63e8-481b-ba8d-9f6cce99ed32",
        "colab": {
          "base_uri": "https://localhost:8080/",
          "height": 246
        }
      },
      "source": [
        "from keras.layers import Dense, Flatten, Dropout\n",
        "from keras.optimizers import SGD, rmsprop\n",
        "from keras.models import Sequential\n",
        "features_train=modelVGG.predict(Xnorm_train_vgg)\n",
        "modelv = Sequential()\n",
        "modelv.add(Flatten(input_shape=features_train.shape[1:]))\n",
        "modelv.add(Dense(512, activation='relu'))\n",
        "modelv.add(Dropout(0.5))\n",
        "modelv.add(Dense(10, activation='softmax'))\n",
        "#clasification\n",
        "modelv.compile(optimizer=optimizer_,loss='categorical_crossentropy', metrics=['accuracy'])\n",
        "modelv.fit(features_train, y_train,epochs=25, batch_size=128,verbose=1,validation_data=(features_train,y_test))"
      ],
      "execution_count": 0,
      "outputs": [
        {
          "output_type": "error",
          "ename": "NameError",
          "evalue": "ignored",
          "traceback": [
            "\u001b[0;31m---------------------------------------------------------------------------\u001b[0m",
            "\u001b[0;31mNameError\u001b[0m                                 Traceback (most recent call last)",
            "\u001b[0;32m<ipython-input-46-531fe0b4b69e>\u001b[0m in \u001b[0;36m<module>\u001b[0;34m()\u001b[0m\n\u001b[1;32m      2\u001b[0m \u001b[0;32mfrom\u001b[0m \u001b[0mkeras\u001b[0m\u001b[0;34m.\u001b[0m\u001b[0moptimizers\u001b[0m \u001b[0;32mimport\u001b[0m \u001b[0mSGD\u001b[0m\u001b[0;34m,\u001b[0m \u001b[0mrmsprop\u001b[0m\u001b[0;34m\u001b[0m\u001b[0;34m\u001b[0m\u001b[0m\n\u001b[1;32m      3\u001b[0m \u001b[0;32mfrom\u001b[0m \u001b[0mkeras\u001b[0m\u001b[0;34m.\u001b[0m\u001b[0mmodels\u001b[0m \u001b[0;32mimport\u001b[0m \u001b[0mSequential\u001b[0m\u001b[0;34m\u001b[0m\u001b[0;34m\u001b[0m\u001b[0m\n\u001b[0;32m----> 4\u001b[0;31m \u001b[0mfeatures_train\u001b[0m\u001b[0;34m=\u001b[0m\u001b[0mmodelVGG\u001b[0m\u001b[0;34m.\u001b[0m\u001b[0mpredict\u001b[0m\u001b[0;34m(\u001b[0m\u001b[0mXnorm_train_vgg\u001b[0m\u001b[0;34m)\u001b[0m\u001b[0;34m\u001b[0m\u001b[0;34m\u001b[0m\u001b[0m\n\u001b[0m\u001b[1;32m      5\u001b[0m \u001b[0mmodelv\u001b[0m \u001b[0;34m=\u001b[0m \u001b[0mSequential\u001b[0m\u001b[0;34m(\u001b[0m\u001b[0;34m)\u001b[0m\u001b[0;34m\u001b[0m\u001b[0;34m\u001b[0m\u001b[0m\n\u001b[1;32m      6\u001b[0m \u001b[0mmodelv\u001b[0m\u001b[0;34m.\u001b[0m\u001b[0madd\u001b[0m\u001b[0;34m(\u001b[0m\u001b[0mFlatten\u001b[0m\u001b[0;34m(\u001b[0m\u001b[0minput_shape\u001b[0m\u001b[0;34m=\u001b[0m\u001b[0mfeatures_train\u001b[0m\u001b[0;34m.\u001b[0m\u001b[0mshape\u001b[0m\u001b[0;34m[\u001b[0m\u001b[0;36m1\u001b[0m\u001b[0;34m:\u001b[0m\u001b[0;34m]\u001b[0m\u001b[0;34m)\u001b[0m\u001b[0;34m)\u001b[0m\u001b[0;34m\u001b[0m\u001b[0;34m\u001b[0m\u001b[0m\n",
            "\u001b[0;31mNameError\u001b[0m: name 'modelVGG' is not defined"
          ]
        }
      ]
    },
    {
      "cell_type": "code",
      "metadata": {
        "id": "aHnYq-eOJupD",
        "colab_type": "code",
        "outputId": "15c56cce-0021-4f2c-aff1-196464e0a409",
        "colab": {
          "base_uri": "https://localhost:8080/",
          "height": 35
        }
      },
      "source": [
        ""
      ],
      "execution_count": 0,
      "outputs": [
        {
          "output_type": "execute_result",
          "data": {
            "text/plain": [
              "-123.68"
            ]
          },
          "metadata": {
            "tags": []
          },
          "execution_count": 73
        }
      ]
    }
  ]
}